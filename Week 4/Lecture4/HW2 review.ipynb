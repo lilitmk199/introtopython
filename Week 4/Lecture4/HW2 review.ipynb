{
 "cells": [
  {
   "cell_type": "markdown",
   "metadata": {},
   "source": [
    "# Notes"
   ]
  },
  {
   "cell_type": "code",
   "execution_count": 5,
   "metadata": {},
   "outputs": [
    {
     "name": "stdout",
     "output_type": "stream",
     "text": [
      "10 days, 0:00:00\n",
      "1 day, 0:00:00\n"
     ]
    }
   ],
   "source": [
    "#timedelta gets arguments:\n",
    "import datetime\n",
    "from datetime import timedelta\n",
    "\n",
    "print(datetime.timedelta(10))\n",
    "print(datetime.timedelta(days = 1))"
   ]
  },
  {
   "cell_type": "code",
   "execution_count": 7,
   "metadata": {},
   "outputs": [
    {
     "name": "stdout",
     "output_type": "stream",
     "text": [
      "some text 10\n"
     ]
    }
   ],
   "source": [
    "#prints with commas (,) \n",
    "\n",
    "print(\"some text\", 10)"
   ]
  },
  {
   "cell_type": "code",
   "execution_count": null,
   "metadata": {},
   "outputs": [],
   "source": [
    "# no spaces in argument names\n",
    "import argparse\n",
    "\n",
    "p = argparse.ArgumentParser()\n",
    "\n",
    "p.add_argument(\"some name\", help=\"a wrong argument\", type=int)"
   ]
  },
  {
   "cell_type": "code",
   "execution_count": null,
   "metadata": {},
   "outputs": [],
   "source": [
    "#no args.something with regular variables\n",
    "import argparse\n",
    "import datetime\n",
    "\n",
    "p = argparse.ArgumentParser()\n",
    "\n",
    "p.add_argument(\"--num_y\", help=\"amount of years\", type=int)\n",
    "p.add_argument(\"--num_d\", help=\"amount of days\", type=int)\n",
    "\n",
    "x = 10\n",
    "y = 100\n",
    "\n",
    "args = p.parse_args()\n",
    "\n",
    "args.num_y #yes\n",
    "args.x #no\n",
    "args.y #no"
   ]
  },
  {
   "cell_type": "markdown",
   "metadata": {},
   "source": [
    "# Problem 1"
   ]
  },
  {
   "cell_type": "markdown",
   "metadata": {},
   "source": [
    "```\n",
    "Create the script problem1.py, which gets 2 optional command line arguments num_y (the number of years) of type int and num_d (the number of years) of type int. Print current date and time + num_y + num_d (using the timedelta function), taking into consideration that both of the variables are optional and if one or both are not given by the user they shouldn’t be included in the resulting sum. Example of the output:\n",
    "\n",
    "“Current date: 2019-08-17 13:57:28.13050”\n",
    "“Given years: 2”\n",
    "“Given days: not given”\n",
    "“Final date: 2021-08-17 13:57:28.13050”\n",
    "\n",
    "\n",
    "```"
   ]
  },
  {
   "cell_type": "code",
   "execution_count": null,
   "metadata": {},
   "outputs": [],
   "source": [
    "import argparse\n",
    "import datetime\n",
    "\n",
    "parser = argparse.ArgumentParser()\n",
    "parser.add_argument(\"--num_y\", type = int, help = \"Number of years\")\n",
    "parser.add_argument(\"--num_d\", type = int, help = \"Number of days\")\n",
    "\n",
    "args = parser.parse_args()\n",
    "tod = datetime.datetime.today()\n",
    "dif = datetime.timedelta(days = 0)\n",
    "\n",
    "if args.num_y:\n",
    "    dif += datetime.timedelta(days = args.num_y * 365)\n",
    "if args.num_d:\n",
    "    dif += datetime.timedelta(days = args.num_d)\n",
    "\n",
    "print(\"Current date: \" , tod)\n",
    "print(\"Given years: \", args.num_y)\n",
    "print(\"Given days: \", args.num_d)\n",
    "print(\"Final date: \", tod + dif)"
   ]
  },
  {
   "cell_type": "code",
   "execution_count": null,
   "metadata": {},
   "outputs": [],
   "source": [
    "import argparse\n",
    "import datetime\n",
    "\n",
    "parser = argparse.ArgumentParser()\n",
    "parser.add_argument(\"--num_y\", type = int, help = \"Number of years\", default = 0)\n",
    "parser.add_argument(\"--num_d\", type = int, help = \"Number of days\", default = 0)\n",
    "\n",
    "args = parser.parse_args()\n",
    "tod = datetime.datetime.today()\n",
    "dif = datetime.timedelta(days = 0)\n",
    "\n",
    "dif += datetime.timedelta(days = args.num_y * 365) + datetime.timedelta(days = args.num_d)\n",
    "\n",
    "print(\"Current date: \" , tod)\n",
    "print(\"Given years: \", args.num_y)\n",
    "print(\"Given days: \", args.num_d)\n",
    "print(\"Final date: \", tod + dif)"
   ]
  },
  {
   "cell_type": "markdown",
   "metadata": {},
   "source": [
    "# Problem 4"
   ]
  },
  {
   "cell_type": "markdown",
   "metadata": {},
   "source": [
    "```\n",
    "Create the script problem4.py, which gets a positional argument text of type String and finds the number of accurances of the words “USA” or “usa” in the text, as well as replaces all the accurances of the words with the word “Armenia”. Print the results in the following format: \n",
    "“The given string: Welcome to USA. usa is awesome, isn’t it?”\n",
    "“The USA/usa count is: 2”\n",
    "“The new string: Welcome to Armenia. Armenia is awesome, isn’t it?”\n",
    "```"
   ]
  },
  {
   "cell_type": "code",
   "execution_count": null,
   "metadata": {},
   "outputs": [],
   "source": [
    "import argparse\n",
    "\n",
    "parser = argparse.ArgumentParser()\n",
    "parser.add_argument(\"text\", type=str, help= \"will replace USA with Armenia\")\n",
    "\n",
    "args = parser.parse_args()\n",
    "\n",
    "new_text = args.text.replace(\"usa\", \"Armenia\").replace(\"USA\", \"Armenia\")\n",
    "quantity = str(args.text.lower().count(\"usa\"))\n",
    "\n",
    "print(\"The given string: \" + args.text)\n",
    "print(\"The USA/usa count is: \" + quantity)\n",
    "print(\"The new string: \" + new_text)"
   ]
  }
 ],
 "metadata": {
  "kernelspec": {
   "display_name": "Python 3",
   "language": "python",
   "name": "python3"
  },
  "language_info": {
   "codemirror_mode": {
    "name": "ipython",
    "version": 3
   },
   "file_extension": ".py",
   "mimetype": "text/x-python",
   "name": "python",
   "nbconvert_exporter": "python",
   "pygments_lexer": "ipython3",
   "version": "3.7.2"
  }
 },
 "nbformat": 4,
 "nbformat_minor": 2
}
