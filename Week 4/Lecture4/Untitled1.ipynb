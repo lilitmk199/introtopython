{
 "cells": [
  {
   "cell_type": "code",
   "execution_count": 17,
   "metadata": {},
   "outputs": [
    {
     "name": "stdout",
     "output_type": "stream",
     "text": [
      "0\n",
      "1\n",
      "2\n"
     ]
    }
   ],
   "source": [
    "for i in range(3):\n",
    "    if i<2:\n",
    "         print(i)\n",
    "    elif i==2:\n",
    "        print(i)\n",
    "    else:\n",
    "        print(\"oops\")"
   ]
  },
  {
   "cell_type": "code",
   "execution_count": 46,
   "metadata": {},
   "outputs": [
    {
     "name": "stdout",
     "output_type": "stream",
     "text": [
      "[6, 3, 4, 6, 140000, 7, 8, 10, 13, 130000]\n",
      "[6, 8, 4, 6, 140000, 7, 8, 10, 13, 130000]\n",
      "[6, 8, 6, 6, 140000, 7, 8, 10, 13, 130000]\n",
      "[6, 8, 6, 8, 140000, 7, 8, 10, 13, 130000]\n",
      "[6, 8, 6, 8, 140001, 7, 8, 10, 13, 130000]\n",
      "[6, 8, 6, 8, 140001, 9, 8, 10, 13, 130000]\n",
      "[6, 8, 6, 8, 140001, 9, 10, 10, 13, 130000]\n",
      "[6, 8, 6, 8, 140001, 9, 10, 12, 13, 130000]\n",
      "[6, 8, 6, 8, 140001, 9, 10, 12, 15, 130000]\n",
      "[6, 8, 6, 8, 140001, 9, 10, 12, 15, 130001]\n"
     ]
    }
   ],
   "source": [
    "l1 = [1, 3, 4, 6, 140000, 7, 8, 10, 13, 130000]\n",
    "\n",
    "for x in range(len(l1)): \n",
    "    \n",
    "    if l1[x] >= 120000:\n",
    "        l1[x] += 1\n",
    "    elif l1[x] >= 4:\n",
    "        l1[x] += 2\n",
    "    else: \n",
    "        l1[x] += 5\n",
    "    print(l1)"
   ]
  },
  {
   "cell_type": "code",
   "execution_count": null,
   "metadata": {},
   "outputs": [],
   "source": []
  },
  {
   "cell_type": "code",
   "execution_count": null,
   "metadata": {},
   "outputs": [],
   "source": []
  }
 ],
 "metadata": {
  "kernelspec": {
   "display_name": "Python 3",
   "language": "python",
   "name": "python3"
  },
  "language_info": {
   "codemirror_mode": {
    "name": "ipython",
    "version": 3
   },
   "file_extension": ".py",
   "mimetype": "text/x-python",
   "name": "python",
   "nbconvert_exporter": "python",
   "pygments_lexer": "ipython3",
   "version": "3.7.4"
  }
 },
 "nbformat": 4,
 "nbformat_minor": 2
}
