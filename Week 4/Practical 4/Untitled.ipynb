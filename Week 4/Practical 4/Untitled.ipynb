{
 "cells": [
  {
   "cell_type": "code",
   "execution_count": 1,
   "metadata": {},
   "outputs": [
    {
     "name": "stdout",
     "output_type": "stream",
     "text": [
      "1\n",
      "2\n",
      "3\n",
      "4\n",
      "5\n",
      "6\n",
      "7\n",
      "8\n",
      "9\n",
      "10\n"
     ]
    }
   ],
   "source": [
    "for x in range(1, 11):\n",
    "    print(x)"
   ]
  },
  {
   "cell_type": "code",
   "execution_count": 2,
   "metadata": {},
   "outputs": [
    {
     "name": "stdout",
     "output_type": "stream",
     "text": [
      "1\n",
      "3\n",
      "5\n",
      "10\n",
      "7\n",
      "-2\n",
      "3\n",
      "5\n",
      "6\n",
      "12\n",
      "continue program\n"
     ]
    }
   ],
   "source": [
    "list1 = [1, 3, 5, 10, 7, -2, 3, 5, 6, 12]\n",
    "for eachNumber in list1:\n",
    "    print(eachNumber)\n",
    "print('continue program')"
   ]
  },
  {
   "cell_type": "code",
   "execution_count": 3,
   "metadata": {},
   "outputs": [
    {
     "name": "stdout",
     "output_type": "stream",
     "text": [
      "1\n",
      "continue program\n",
      "3\n",
      "continue program\n",
      "5\n",
      "continue program\n",
      "10\n",
      "continue program\n",
      "7\n",
      "continue program\n",
      "-2\n",
      "continue program\n",
      "3\n",
      "continue program\n",
      "5\n",
      "continue program\n",
      "6\n",
      "continue program\n",
      "12\n",
      "continue program\n"
     ]
    }
   ],
   "source": [
    "list1 = [1, 3, 5, 10, 7, -2, 3, 5, 6, 12]\n",
    "for eachNumber in list1:\n",
    "    print(eachNumber)\n",
    "    print('continue program')\n",
    "    "
   ]
  },
  {
   "cell_type": "code",
   "execution_count": 4,
   "metadata": {},
   "outputs": [
    {
     "name": "stdout",
     "output_type": "stream",
     "text": [
      "[1, 3, 5, 10, 7, -2, 3, 5, 6, 12]\n",
      "1\n",
      "3\n",
      "5\n",
      "10\n",
      "7\n"
     ]
    }
   ],
   "source": [
    "print(list1)\n",
    "for number in list1[:5]:\n",
    "    print(number)"
   ]
  },
  {
   "cell_type": "code",
   "execution_count": 5,
   "metadata": {},
   "outputs": [
    {
     "name": "stdout",
     "output_type": "stream",
     "text": [
      "First loop:  0\n",
      "0\n",
      "First loop:  0\n",
      "1\n",
      "First loop:  0\n",
      "2\n",
      "First loop:  1\n",
      "0\n",
      "First loop:  1\n",
      "1\n",
      "First loop:  1\n",
      "2\n",
      "First loop:  2\n",
      "0\n",
      "First loop:  2\n",
      "1\n",
      "First loop:  2\n",
      "2\n"
     ]
    }
   ],
   "source": [
    "for i in range(3):  #0..3\n",
    "    for j in range(3):  #0..3\n",
    "        print(\"First loop: \", i)\n",
    "        print(j)"
   ]
  },
  {
   "cell_type": "code",
   "execution_count": 10,
   "metadata": {},
   "outputs": [
    {
     "name": "stdout",
     "output_type": "stream",
     "text": [
      "11\n"
     ]
    }
   ],
   "source": [
    "list1=[1, 3, 5, 7, 9, 11, 13, 15]\n",
    "list2= [4, 6, 14, 11,8, 16]\n",
    "\n",
    "for n in list1:\n",
    "    for m in list2:\n",
    "        if m==n:\n",
    "            print(n)\n",
    "            break\n",
    "        \n",
    "        \n",
    "         "
   ]
  },
  {
   "cell_type": "code",
   "execution_count": 1,
   "metadata": {},
   "outputs": [
    {
     "name": "stdout",
     "output_type": "stream",
     "text": [
      "First loop:  0\n",
      "0\n",
      "First loop:  1\n",
      "1\n",
      "First loop:  2\n",
      "2\n"
     ]
    }
   ],
   "source": [
    "i = 0\n",
    "j = 0\n",
    "\n",
    "while i<3:  #i = 0\n",
    "    while j<3:  #j =3\n",
    "        print(\"First loop: \", i)\n",
    "        print( j)\n",
    "        i+=1\n",
    "        j+=1\n",
    "    "
   ]
  },
  {
   "cell_type": "code",
   "execution_count": null,
   "metadata": {},
   "outputs": [],
   "source": []
  },
  {
   "cell_type": "code",
   "execution_count": null,
   "metadata": {},
   "outputs": [],
   "source": []
  }
 ],
 "metadata": {
  "kernelspec": {
   "display_name": "Python 3",
   "language": "python",
   "name": "python3"
  },
  "language_info": {
   "codemirror_mode": {
    "name": "ipython",
    "version": 3
   },
   "file_extension": ".py",
   "mimetype": "text/x-python",
   "name": "python",
   "nbconvert_exporter": "python",
   "pygments_lexer": "ipython3",
   "version": "3.7.4"
  }
 },
 "nbformat": 4,
 "nbformat_minor": 2
}
