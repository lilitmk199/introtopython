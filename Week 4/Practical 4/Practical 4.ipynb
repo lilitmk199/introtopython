{
 "cells": [
  {
   "cell_type": "markdown",
   "metadata": {},
   "source": [
    "# Practical 1"
   ]
  },
  {
   "cell_type": "code",
   "execution_count": 12,
   "metadata": {},
   "outputs": [
    {
     "name": "stdout",
     "output_type": "stream",
     "text": [
      "number 1 :34\n",
      "number 2 :34\n"
     ]
    }
   ],
   "source": [
    "number1= int(input(\"number 1 :\" ))\n",
    "number2=int(input(\"number 2 :\" ))\n",
    "\n",
    "\n"
   ]
  },
  {
   "cell_type": "code",
   "execution_count": 13,
   "metadata": {},
   "outputs": [
    {
     "name": "stdout",
     "output_type": "stream",
     "text": [
      "34\n"
     ]
    }
   ],
   "source": [
    "if number1>=number2:\n",
    "    print(number1)\n",
    "else: \n",
    "    print(number2)"
   ]
  },
  {
   "cell_type": "markdown",
   "metadata": {},
   "source": [
    "# Practical 2"
   ]
  },
  {
   "cell_type": "code",
   "execution_count": 21,
   "metadata": {},
   "outputs": [
    {
     "name": "stdout",
     "output_type": "stream",
     "text": [
      "rectange\n"
     ]
    }
   ],
   "source": [
    "a= 5\n",
    "b=7\n",
    "\n",
    "if a==b:\n",
    "    print(\"square\")\n",
    "else:\n",
    "    print(\"rectangle\")\n",
    "        "
   ]
  },
  {
   "cell_type": "markdown",
   "metadata": {},
   "source": [
    "# Practical 3"
   ]
  },
  {
   "cell_type": "code",
   "execution_count": 102,
   "metadata": {},
   "outputs": [
    {
     "name": "stdout",
     "output_type": "stream",
     "text": [
      "Wlecome, Miss Lilit !\n",
      "Dear Lilit you are too young to register\n"
     ]
    }
   ],
   "source": [
    "name=\"Lilit\"\n",
    "age=13\n",
    "password=\"9v2usclKlil001*\"\n",
    "\n",
    "if name==\"Lilit\":\n",
    "    print( \"Wlecome, Miss Lilit !\")\n",
    "if age<=16:\n",
    "    print(\"Dear\" ,name, \"you are too young to register\")\n",
    "\n",
    "if \"*\" not in password and \"&\" not in password:\n",
    "    print(\"Enter another password\")\n",
    "\n",
    "\n",
    "\n",
    "        \n",
    "\n"
   ]
  },
  {
   "cell_type": "code",
   "execution_count": 101,
   "metadata": {},
   "outputs": [
    {
     "name": "stdout",
     "output_type": "stream",
     "text": [
      "2\n"
     ]
    }
   ],
   "source": [
    "a=2\n",
    "b=3\n",
    "\n",
    "if a>1 or b>4:\n",
    "    print(a)\n"
   ]
  },
  {
   "cell_type": "markdown",
   "metadata": {},
   "source": [
    "# Practical 4"
   ]
  },
  {
   "cell_type": "code",
   "execution_count": 66,
   "metadata": {},
   "outputs": [
    {
     "name": "stdout",
     "output_type": "stream",
     "text": [
      "{'name': 'Armen', 'age': 15, 'grades': [10, 8, 8, 4, 6, 7]}\n",
      "number :67\n",
      "67\n"
     ]
    }
   ],
   "source": [
    "dict= {\"name\":\"Armen\", \"age\": 15, \"grades\":[10, 8,8, 4, 6, 7]}\n",
    "print(dict)\n",
    "    \n",
    "number=int(input(\"number :\"))\n",
    "if \"weight\" in dict:\n",
    "    print([\"weigth\"])\n",
    "else:\n",
    "        print(number)"
   ]
  },
  {
   "cell_type": "markdown",
   "metadata": {},
   "source": [
    "# Practical 5"
   ]
  },
  {
   "cell_type": "code",
   "execution_count": 72,
   "metadata": {},
   "outputs": [
    {
     "name": "stdout",
     "output_type": "stream",
     "text": [
      "[1, 3, 5, 7, 9, 11, 13, 15, 17, 19, 21, 23, 25, 27, 29, 31, 33, 35, 37, 39, 41, 43, 45, 47, 49, 51, 53, 55, 57, 59, 61, 63, 65, 67, 69, 71, 73, 75, 77, 79, 81, 83, 85, 87, 89, 91, 93, 95, 97, 99]\n"
     ]
    }
   ],
   "source": [
    "list1 = list(range(1,100))\n",
    "evens = []\n",
    "odds = []\n",
    "\n",
    "\n",
    "for n in list1:\n",
    "    if n%2==0:\n",
    "        evens.append(n)\n",
    "    else:\n",
    "        odds.append(n)\n",
    "\n",
    "\n",
    "print(odds)"
   ]
  },
  {
   "cell_type": "code",
   "execution_count": 76,
   "metadata": {},
   "outputs": [
    {
     "name": "stdout",
     "output_type": "stream",
     "text": [
      "[1, 3, 5, 7, 9, 11, 13, 15, 17, 19, 21, 23, 25, 27, 29, 31, 33, 35, 37, 39, 41, 43, 45, 47, 49, 51, 53, 55, 57, 59, 61, 63, 65, 67, 69, 71, 73, 75, 77, 79, 81, 83, 85, 87, 89, 91, 93, 95, 97, 99]\n"
     ]
    }
   ],
   "source": [
    "list1 = list(range(1,100))\n",
    "odds = [n for n in list1 if n%2!=0]\n",
    "print(odds)"
   ]
  },
  {
   "cell_type": "markdown",
   "metadata": {},
   "source": [
    "# Practical 6"
   ]
  },
  {
   "cell_type": "code",
   "execution_count": 94,
   "metadata": {},
   "outputs": [
    {
     "name": "stdout",
     "output_type": "stream",
     "text": [
      "1\n",
      "3\n",
      "5\n",
      "6\n"
     ]
    }
   ],
   "source": [
    "c = 0\n",
    "\n",
    "while c<6:\n",
    "    c += 1\n",
    "    \n",
    "    if c == 2 or c==4:\n",
    "        continue\n",
    "    print(c)  \n",
    "    \n",
    "    "
   ]
  },
  {
   "cell_type": "markdown",
   "metadata": {},
   "source": [
    "# Practical 7"
   ]
  },
  {
   "cell_type": "code",
   "execution_count": 103,
   "metadata": {},
   "outputs": [
    {
     "name": "stdout",
     "output_type": "stream",
     "text": [
      "1\n",
      "2\n",
      "3\n",
      "4\n",
      "5\n",
      "6\n",
      "7\n",
      "8\n",
      "9\n",
      "10\n",
      "11\n",
      "12\n",
      "13\n",
      "14\n",
      "15\n"
     ]
    }
   ],
   "source": [
    "c = 0\n",
    "\n",
    "while c<21:\n",
    "    c += 1\n",
    "    print(c)\n",
    "    if c%3==0 and c%5==0:\n",
    "        break\n",
    "\n",
    "    \n"
   ]
  },
  {
   "cell_type": "markdown",
   "metadata": {},
   "source": [
    "# Practical 8"
   ]
  },
  {
   "cell_type": "code",
   "execution_count": 126,
   "metadata": {},
   "outputs": [
    {
     "name": "stdout",
     "output_type": "stream",
     "text": [
      "5\n",
      "7\n",
      "-7\n",
      "abc\n",
      "2\n",
      "4\n",
      "True\n",
      "3\n"
     ]
    }
   ],
   "source": [
    "list1= [5, 7, -7, \"abc\", 2, 4, True, 3, 4, 6, 7, 7]\n",
    "for n in list1:\n",
    "    print(n)\n",
    "    if n==3:\n",
    "        break\n",
    "    \n",
    "    "
   ]
  },
  {
   "cell_type": "markdown",
   "metadata": {},
   "source": [
    "# Practical 9"
   ]
  },
  {
   "cell_type": "code",
   "execution_count": null,
   "metadata": {},
   "outputs": [
    {
     "name": "stdout",
     "output_type": "stream",
     "text": [
      "guess :6\n",
      "no\n"
     ]
    }
   ],
   "source": [
    "correct_num=5\n",
    "\n",
    "c=0\n",
    "while c<10:\n",
    "    guess= int(input(\"guess :\"))\n",
    "    c += 1\n",
    "    if guess==correct_num:\n",
    "        print(\"ok\")\n",
    "        break\n",
    "    else:\n",
    "        print(\"no\")\n",
    "\n",
    "    \n",
    "    \n",
    "    \n"
   ]
  },
  {
   "cell_type": "markdown",
   "metadata": {},
   "source": [
    "# Practical 10\n"
   ]
  },
  {
   "cell_type": "code",
   "execution_count": 31,
   "metadata": {},
   "outputs": [
    {
     "name": "stdout",
     "output_type": "stream",
     "text": [
      "[7, 8, 120, 25, 44, 20, 27]\n",
      "[7, 120, 25, 20, 27]\n"
     ]
    }
   ],
   "source": [
    "num=[7,8, 120, 25, 44, 20, 27]\n",
    "print (num)\n",
    "for n in num:\n",
    "    if n%2==0:\n",
    "        num.remove(n)\n",
    "print(num) \n",
    "\n"
   ]
  },
  {
   "cell_type": "markdown",
   "metadata": {},
   "source": [
    "# Practical 11"
   ]
  },
  {
   "cell_type": "code",
   "execution_count": 33,
   "metadata": {},
   "outputs": [
    {
     "name": "stdout",
     "output_type": "stream",
     "text": [
      "[1, 8, 27, 64, 125, 216, 343, 512, 729, 1000, 1331, 1728, 2197, 2744, 3375, 4096, 4913, 5832, 6859, 8000, 9261, 10648, 12167, 13824, 15625, 17576, 19683, 21952, 24389, 27000, 29791, 32768, 35937, 39304, 42875, 46656, 50653, 54872, 59319, 64000, 68921, 74088, 79507, 85184, 91125, 97336, 103823, 110592, 117649]\n"
     ]
    }
   ],
   "source": [
    "list = [x**3 for x in range(1,50)]\n",
    "print(list)"
   ]
  },
  {
   "cell_type": "markdown",
   "metadata": {},
   "source": [
    "# Practical 12"
   ]
  },
  {
   "cell_type": "code",
   "execution_count": 35,
   "metadata": {},
   "outputs": [
    {
     "name": "stdout",
     "output_type": "stream",
     "text": [
      "[30, 40, 50, 34]\n"
     ]
    }
   ],
   "source": [
    "list1=[1,10, 20, 30, 40, 50, 34,8, 9, 7]\n",
    "list2=[x for x in list1 if x>20]\n",
    "print(list2)"
   ]
  },
  {
   "cell_type": "markdown",
   "metadata": {},
   "source": [
    "# Practical 13"
   ]
  },
  {
   "cell_type": "code",
   "execution_count": 40,
   "metadata": {},
   "outputs": [
    {
     "name": "stdout",
     "output_type": "stream",
     "text": [
      "value :red\n",
      "['r', 'e', 'd']\n"
     ]
    }
   ],
   "source": [
    "value=str(input(\"value :\" ))\n",
    "list1=[letters for letters in value]\n",
    "print(list1)"
   ]
  },
  {
   "cell_type": "markdown",
   "metadata": {},
   "source": [
    "# Practical 14\n"
   ]
  },
  {
   "cell_type": "code",
   "execution_count": 72,
   "metadata": {},
   "outputs": [
    {
     "name": "stdout",
     "output_type": "stream",
     "text": [
      "aba\n",
      "1221\n"
     ]
    }
   ],
   "source": [
    "list1= [\"a\", \"abs\", \"xyz\", \"s\", \"aba\", \"1221\"]\n",
    "for items in list1:\n",
    "    if len(items)>=2 and items[0]==items[-1]:\n",
    "        print(items)\n",
    "    \n",
    "       \n"
   ]
  },
  {
   "cell_type": "code",
   "execution_count": null,
   "metadata": {},
   "outputs": [],
   "source": []
  }
 ],
 "metadata": {
  "kernelspec": {
   "display_name": "Python 3",
   "language": "python",
   "name": "python3"
  }
 },
 "nbformat": 4,
 "nbformat_minor": 2
}
