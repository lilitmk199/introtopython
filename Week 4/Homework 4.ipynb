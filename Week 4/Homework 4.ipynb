{
 "cells": [
  {
   "cell_type": "markdown",
   "metadata": {},
   "source": [
    "# Conditionasls\n",
    "# 1\n"
   ]
  },
  {
   "cell_type": "code",
   "execution_count": 2,
   "metadata": {},
   "outputs": [
    {
     "name": "stdout",
     "output_type": "stream",
     "text": [
      "number10\n",
      "you got a discount\n"
     ]
    }
   ],
   "source": [
    "number=int(input(\"number\"))\n",
    "if number>=10:\n",
    "    print(\"you got a discount\")\n",
    "else:\n",
    "    print(\"You don’t get a discount\")"
   ]
  },
  {
   "cell_type": "markdown",
   "metadata": {},
   "source": [
    "# 2"
   ]
  },
  {
   "cell_type": "code",
   "execution_count": 25,
   "metadata": {},
   "outputs": [
    {
     "name": "stdout",
     "output_type": "stream",
     "text": [
      "[10, 8, 8, 4, 6, 7]\n",
      "Good job\n"
     ]
    }
   ],
   "source": [
    "d={\"name\": \"Armen\", \"age\": 15, \"grades\": [10, 8,8, 4, 6, 7] }\n",
    "list1=d[\"grades\"]\n",
    "print (list1)\n",
    "\n",
    "import statistics\n",
    "\n",
    "if statistics.mean(list1)>7:\n",
    "    print(\"Good job\")\n",
    "else:\n",
    "    print(\"You need to work\")"
   ]
  },
  {
   "cell_type": "markdown",
   "metadata": {},
   "source": [
    "# Loops"
   ]
  },
  {
   "cell_type": "markdown",
   "metadata": {},
   "source": [
    "# 3"
   ]
  },
  {
   "cell_type": "code",
   "execution_count": 27,
   "metadata": {},
   "outputs": [
    {
     "name": "stdout",
     "output_type": "stream",
     "text": [
      "1\n",
      "3\n",
      "5\n",
      "7\n",
      "9\n"
     ]
    }
   ],
   "source": [
    "c = 0\n",
    "\n",
    "while c<10:\n",
    "    c += 1\n",
    "    \n",
    "    if c%2 ==0 :\n",
    "        continue\n",
    "    print(c)"
   ]
  },
  {
   "cell_type": "markdown",
   "metadata": {},
   "source": [
    "# 4"
   ]
  },
  {
   "cell_type": "code",
   "execution_count": 51,
   "metadata": {},
   "outputs": [
    {
     "name": "stdout",
     "output_type": "stream",
     "text": [
      "[1, 3, 5, 7, 9]\n"
     ]
    }
   ],
   "source": [
    "list1=[1, 3, 5, 7, 9, 11, 13, 15]\n",
    "list2= [4, 6, 14, 11,8, 16]\n",
    "\n",
    "for m in range(len(list2)):\n",
    "    for n in range(len(list1)):\n",
    "        if list2[m]==list1[n]:\n",
    "            print(list1[:n])\n",
    "            break\n",
    "     \n"
   ]
  },
  {
   "cell_type": "markdown",
   "metadata": {},
   "source": [
    "# 5"
   ]
  },
  {
   "cell_type": "code",
   "execution_count": null,
   "metadata": {},
   "outputs": [
    {
     "name": "stdout",
     "output_type": "stream",
     "text": [
      "desertnj\n",
      "choose another desert\n"
     ]
    }
   ],
   "source": [
    "menu=[\"ice cream\", \"chocolate\", \"apple crisp\", \"cookies\"]\n",
    "\n",
    "c=0\n",
    "while c<4:\n",
    "        c += 1\n",
    "        desert=str(input(\"desert\"))\n",
    "        if desert in menu:\n",
    "            print(\"ok\")\n",
    "            break\n",
    "        else: \n",
    "            print (\"choose another desert\")\n",
    "        \n"
   ]
  },
  {
   "cell_type": "markdown",
   "metadata": {},
   "source": [
    "# 6"
   ]
  },
  {
   "cell_type": "code",
   "execution_count": 21,
   "metadata": {},
   "outputs": [
    {
     "name": "stdout",
     "output_type": "stream",
     "text": [
      "[6, 7, 7, 8, 9, 6, 7]\n"
     ]
    },
    {
     "data": {
      "text/plain": [
       "7"
      ]
     },
     "execution_count": 21,
     "metadata": {},
     "output_type": "execute_result"
    }
   ],
   "source": [
    "list1=[1,3,4,5,6,7,7,8,9,3,6,7,10]\n",
    "list2=[x for x in list1 if 5<x<10]\n",
    "print(list2)\n",
    "len(list2)"
   ]
  },
  {
   "cell_type": "markdown",
   "metadata": {},
   "source": [
    "# 7"
   ]
  },
  {
   "cell_type": "code",
   "execution_count": 50,
   "metadata": {},
   "outputs": [
    {
     "name": "stdout",
     "output_type": "stream",
     "text": [
      "[[10, 20, 40], [40, 50, 60], [70, 80, 90]]\n",
      "[[10, 20, 40], [40, 50, 60], 100]\n",
      "[[10, 20, 40], [40, 50, 60], 100]\n"
     ]
    }
   ],
   "source": [
    "list1=[[10, 20, 40], [40, 50, 60], [70, 80, 90]]\n",
    "print(list1)\n",
    "list5=[list1[0],list1[1],100] #version1\n",
    "print(list5)\n",
    "list6=[x for x in list1[0:2]] #version2\n",
    "list6.append(100)\n",
    "print(list6)\n"
   ]
  },
  {
   "cell_type": "code",
   "execution_count": null,
   "metadata": {},
   "outputs": [],
   "source": []
  }
 ],
 "metadata": {
  "kernelspec": {
   "display_name": "Python 3",
   "language": "python",
   "name": "python3"
  },
  "language_info": {
   "codemirror_mode": {
    "name": "ipython",
    "version": 3
   },
   "file_extension": ".py",
   "mimetype": "text/x-python",
   "name": "python",
   "nbconvert_exporter": "python",
   "pygments_lexer": "ipython3",
   "version": "3.7.4"
  }
 },
 "nbformat": 4,
 "nbformat_minor": 2
}
