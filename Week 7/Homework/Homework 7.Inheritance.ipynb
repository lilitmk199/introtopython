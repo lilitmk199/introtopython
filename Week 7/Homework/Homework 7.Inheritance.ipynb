{
 "cells": [
  {
   "cell_type": "markdown",
   "metadata": {},
   "source": [
    "# INHERITANCE"
   ]
  },
  {
   "cell_type": "markdown",
   "metadata": {},
   "source": [
    "# Problem 1"
   ]
  },
  {
   "cell_type": "code",
   "execution_count": 1,
   "metadata": {},
   "outputs": [
    {
     "name": "stdout",
     "output_type": "stream",
     "text": [
      "8\n",
      "-2\n",
      "15\n",
      "0.6\n"
     ]
    }
   ],
   "source": [
    "class Calculation:\n",
    "    def __init__(self,x,y):\n",
    "        self.x=x\n",
    "        self.y=y\n",
    "        \n",
    "    def addition(self):\n",
    "        print(self.x+self.y)\n",
    "    def subtraction(self):\n",
    "        print(self.x-self.y)\n",
    "\n",
    "class Mycalculation(Calculation):\n",
    "    def __init__(self,x,y):\n",
    "        Calculation. __init__(self,x,y)\n",
    "    \n",
    "    def multiplication(self):\n",
    "        print(self.x*self.y)\n",
    "    \n",
    "    def division(self):\n",
    "        print(self.x/self.y)\n",
    "        \n",
    "mycalc=Mycalculation(3,5)\n",
    "mycalc.addition()\n",
    "mycalc.subtraction()\n",
    "mycalc.multiplication()\n",
    "mycalc.division()"
   ]
  },
  {
   "cell_type": "markdown",
   "metadata": {},
   "source": [
    "# Problem 2"
   ]
  },
  {
   "cell_type": "code",
   "execution_count": 2,
   "metadata": {},
   "outputs": [
    {
     "name": "stdout",
     "output_type": "stream",
     "text": [
      "The current time is 10 A.M\n",
      "The current date is 12.09.2012\n",
      "The current time is 12 P.M\n",
      "The current date is 13.03.2013\n"
     ]
    }
   ],
   "source": [
    "class My_Time:\n",
    "    def __init__(self,t):\n",
    "        self.t=t\n",
    "    \n",
    "    def print_time(self):\n",
    "        print(\"The current time is\", self.t)\n",
    "        \n",
    "my_time1=My_Time(\"10 A.M\")\n",
    "my_time1.print_time()\n",
    "\n",
    "class My_Date:\n",
    "    def __init__ (self,d):\n",
    "        self.date=d\n",
    "        \n",
    "    def print_date(self):\n",
    "        print (\"The current date is\",self.date)\n",
    "        \n",
    "my_date1= My_Date(\"12.09.2012\")\n",
    "my_date1.print_date()\n",
    "\n",
    "class Date_Time(My_Time,My_Date):\n",
    "    def __init__(self,t,d):\n",
    "        My_Time.__init__(self,t)\n",
    "        My_Date.__init__(self,d)\n",
    "    \n",
    "date_time=Date_Time(\"12 P.M\", \"13.03.2013\")\n",
    "date_time.print_time()\n",
    "date_time.print_date()"
   ]
  }
 ],
 "metadata": {
  "kernelspec": {
   "display_name": "Python 3",
   "language": "python",
   "name": "python3"
  },
  "language_info": {
   "codemirror_mode": {
    "name": "ipython",
    "version": 3
   },
   "file_extension": ".py",
   "mimetype": "text/x-python",
   "name": "python",
   "nbconvert_exporter": "python",
   "pygments_lexer": "ipython3",
   "version": "3.7.4"
  }
 },
 "nbformat": 4,
 "nbformat_minor": 2
}
