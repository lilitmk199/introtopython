{
 "cells": [
  {
   "cell_type": "markdown",
   "metadata": {},
   "source": [
    "# Problem 1"
   ]
  },
  {
   "cell_type": "markdown",
   "metadata": {},
   "source": [
    "```\n",
    "Ստեղծեք max ֆունկցիան, որը ստանում է անորոշ քանակի թվեր որպես արգումենտներ, գտնում է այդ թվերի maximum-ը և վերադարձնում է այն։ Եթե ֆունկցիան կանչվում է առանց արգումենտներ, այն պետք է վերադարձնի “no numbers given” արժեքը։ Այս առաջադրանքը կատարելիս մի օգտագործեք առավերագույն արժեք հաշվելու build-in ֆունկցիաներ։\n",
    "```"
   ]
  },
  {
   "cell_type": "code",
   "execution_count": null,
   "metadata": {},
   "outputs": [],
   "source": [
    "def max_func(*args):\n",
    "    if len(args)==0:\n",
    "        print(\"no number is given\")\n",
    "    else:\n",
    "        list(args).sort()\n",
    "        return args[-1]"
   ]
  },
  {
   "cell_type": "code",
   "execution_count": null,
   "metadata": {},
   "outputs": [],
   "source": [
    "def max(*args):  \n",
    "    if len(args)==0:\n",
    "        return \"no numbers given\"\n",
    "\n",
    "    m=args[0]\n",
    "    for i in args:\n",
    "        if i>m:\n",
    "            m=i\n",
    "    return m"
   ]
  },
  {
   "cell_type": "markdown",
   "metadata": {},
   "source": [
    "# Problem 2"
   ]
  },
  {
   "cell_type": "markdown",
   "metadata": {},
   "source": [
    "```\n",
    "Ստեղծեք ֆունկցիա, որը ստանում է որպես արգումենտ list ու վերադարձնում է նոր list, որը պարունակում է տրված list-ի չկչկնվող (unique) արժեքները։  \n",
    "```"
   ]
  },
  {
   "cell_type": "code",
   "execution_count": null,
   "metadata": {},
   "outputs": [],
   "source": [
    "def unique_func(x):\n",
    "    x = set(x)\n",
    "    x = list(x)\n",
    "    return x"
   ]
  },
  {
   "cell_type": "markdown",
   "metadata": {},
   "source": [
    "# Problem 3"
   ]
  },
  {
   "cell_type": "markdown",
   "metadata": {},
   "source": [
    "```\n",
    "Ստեղծեք ֆունկցիա, որը չի ստանում որևէ argument ու վերադարձնում է “Inside the function” String-ը։ Ստեղծեք decorator, որը կփոփոխի ֆունկցիան այնպես, որ ստացվի հետևյալ արդյունքը՝\n",
    "\n",
    "“Before function call”\n",
    "“Inside the function”\n",
    "“After the function call”\n",
    "\n",
    "Այսինքն decorator-ը կավելացնի String տիպի արժեքներ ֆունկցիան կանչելուց առաջ ու հետո։\n",
    "\n",
    "```"
   ]
  },
  {
   "cell_type": "code",
   "execution_count": 1,
   "metadata": {},
   "outputs": [],
   "source": [
    "def dec_before_after(func):  \n",
    "    def wrapper(*args, **kwargs):\n",
    "        print(\"Before function call\")\n",
    "        print(func())\n",
    "        print(\"After the function call\")\n",
    "    return wrapper\n",
    "\n",
    "@dec_before_after\n",
    "def inside_func():\n",
    "    return \"Inside the function\""
   ]
  },
  {
   "cell_type": "code",
   "execution_count": 2,
   "metadata": {},
   "outputs": [
    {
     "name": "stdout",
     "output_type": "stream",
     "text": [
      "Before function call\n",
      "Inside the function\n",
      "After the function call\n"
     ]
    }
   ],
   "source": [
    "inside_func()"
   ]
  },
  {
   "cell_type": "markdown",
   "metadata": {},
   "source": [
    "# Problem 4"
   ]
  },
  {
   "cell_type": "markdown",
   "metadata": {},
   "source": [
    "```\n",
    "\n",
    "Ստեղծեք ֆունկցիա, որը չի ստանում որևէ argument ու վերադարձնում է “Hi” String-ը։Ստեղծեք երկու տարբեր decorator-ներ, դրանցից առաջինը ֆունկցիայի արդյունք String-ին ավելացնում է “, it’s is me!” արժեքը, իսկ երկրորդը ֆունկցիայի արդյունքին ավելացնում է “<u>” ու </u>։ Կիրառեք decorator-ներն այնպես, որպեսզի վերջում ստացվի հետևյալ արդյունքը՝\n",
    "\n",
    "<u> Hi, it’s is me! </u>\n",
    "\n",
    "```"
   ]
  },
  {
   "cell_type": "code",
   "execution_count": 5,
   "metadata": {},
   "outputs": [],
   "source": [
    "def dec_it_is_me(func):  \n",
    "    def wrapper(*args, **kwargs):\n",
    "        return func() + \", it’s is me!\"\n",
    "    return wrapper\n",
    "def dec_adding_u(func):  \n",
    "    def wrapper(*args, **kwargs):\n",
    "        return \"<u>\"+ func() + \"</u>\"\n",
    "    return wrapper\n",
    "\n",
    "@dec_adding_u\n",
    "@dec_it_is_me\n",
    "def greeting_func():\n",
    "    return \"Hi\""
   ]
  },
  {
   "cell_type": "code",
   "execution_count": 6,
   "metadata": {},
   "outputs": [
    {
     "data": {
      "text/plain": [
       "'<u>Hi, it’s is me!</u>'"
      ]
     },
     "execution_count": 6,
     "metadata": {},
     "output_type": "execute_result"
    }
   ],
   "source": [
    "greeting_func()"
   ]
  },
  {
   "cell_type": "markdown",
   "metadata": {},
   "source": [
    "# Problem 5"
   ]
  },
  {
   "cell_type": "markdown",
   "metadata": {},
   "source": [
    "```\n",
    "Ստեղծեք my_range(n) ֆունկցիան, որը ստանում է int տիպի n թիվը որպես արգումենտ ու yield է անում հետևյալ արժեքները 0, 1, … , n-2, n-1, n մինչև որ չհասնի n+1-ին. Երբ այն հասնում է n+1-ին, print է անում “there are no values left”.\n",
    "```"
   ]
  },
  {
   "cell_type": "code",
   "execution_count": 7,
   "metadata": {},
   "outputs": [],
   "source": [
    "def my_range(n):\n",
    "    for i in range(n+1):\n",
    "        yield i\n",
    "    yield(\"there are no values left\")"
   ]
  },
  {
   "cell_type": "code",
   "execution_count": 8,
   "metadata": {},
   "outputs": [],
   "source": [
    "a=my_range(3)"
   ]
  },
  {
   "cell_type": "code",
   "execution_count": 13,
   "metadata": {},
   "outputs": [
    {
     "data": {
      "text/plain": [
       "'there are no values left'"
      ]
     },
     "execution_count": 13,
     "metadata": {},
     "output_type": "execute_result"
    }
   ],
   "source": [
    "next(a)"
   ]
  },
  {
   "cell_type": "code",
   "execution_count": 14,
   "metadata": {},
   "outputs": [],
   "source": [
    "def my_range(n):\n",
    "    for i in range(0, n+2):\n",
    "        if i<=n:\n",
    "            yield i \n",
    "        else:\n",
    "            print(\"there are no values left\")"
   ]
  },
  {
   "cell_type": "code",
   "execution_count": 15,
   "metadata": {},
   "outputs": [],
   "source": [
    "a=my_range(3)"
   ]
  },
  {
   "cell_type": "code",
   "execution_count": 20,
   "metadata": {},
   "outputs": [
    {
     "name": "stdout",
     "output_type": "stream",
     "text": [
      "there are no values left\n"
     ]
    },
    {
     "ename": "StopIteration",
     "evalue": "",
     "output_type": "error",
     "traceback": [
      "\u001b[0;31m---------------------------------------------------------------------------\u001b[0m",
      "\u001b[0;31mStopIteration\u001b[0m                             Traceback (most recent call last)",
      "\u001b[0;32m<ipython-input-20-15841f3f11d4>\u001b[0m in \u001b[0;36m<module>\u001b[0;34m()\u001b[0m\n\u001b[0;32m----> 1\u001b[0;31m \u001b[0mnext\u001b[0m\u001b[0;34m(\u001b[0m\u001b[0ma\u001b[0m\u001b[0;34m)\u001b[0m\u001b[0;34m\u001b[0m\u001b[0;34m\u001b[0m\u001b[0m\n\u001b[0m",
      "\u001b[0;31mStopIteration\u001b[0m: "
     ]
    }
   ],
   "source": [
    "next(a)"
   ]
  },
  {
   "cell_type": "code",
   "execution_count": null,
   "metadata": {},
   "outputs": [],
   "source": [
    "# Problem 6"
   ]
  },
  {
   "cell_type": "code",
   "execution_count": 23,
   "metadata": {},
   "outputs": [
    {
     "ename": "ModuleNotFoundError",
     "evalue": "No module named 'Productcheck'",
     "output_type": "error",
     "traceback": [
      "\u001b[0;31m---------------------------------------------------------------------------\u001b[0m",
      "\u001b[0;31mModuleNotFoundError\u001b[0m                       Traceback (most recent call last)",
      "\u001b[0;32m<ipython-input-23-74856eca43ee>\u001b[0m in \u001b[0;36m<module>\u001b[0;34m()\u001b[0m\n\u001b[1;32m      1\u001b[0m \u001b[0;31m#Customer.py\u001b[0m\u001b[0;34m\u001b[0m\u001b[0;34m\u001b[0m\u001b[0;34m\u001b[0m\u001b[0m\n\u001b[1;32m      2\u001b[0m \u001b[0;34m\u001b[0m\u001b[0m\n\u001b[0;32m----> 3\u001b[0;31m \u001b[0;32mimport\u001b[0m \u001b[0mProductcheck\u001b[0m\u001b[0;34m\u001b[0m\u001b[0;34m\u001b[0m\u001b[0m\n\u001b[0m\u001b[1;32m      4\u001b[0m \u001b[0;34m\u001b[0m\u001b[0m\n\u001b[1;32m      5\u001b[0m \u001b[0;32mdef\u001b[0m  \u001b[0mbuy\u001b[0m\u001b[0;34m(\u001b[0m\u001b[0mproduct\u001b[0m\u001b[0;34m,\u001b[0m \u001b[0mnum\u001b[0m\u001b[0;34m,\u001b[0m \u001b[0mprice\u001b[0m\u001b[0;34m)\u001b[0m\u001b[0;34m:\u001b[0m\u001b[0;34m\u001b[0m\u001b[0;34m\u001b[0m\u001b[0m\n",
      "\u001b[0;31mModuleNotFoundError\u001b[0m: No module named 'Productcheck'"
     ]
    }
   ],
   "source": [
    "#Customer.py\n",
    "\n",
    "import Productcheck\n",
    "\n",
    "def  buy(product, num, price):\n",
    "    if Productcheck.check(product, num)==True:\n",
    "        print(\"You bought \" + product + \" and spent \" + str(num*price))\n",
    "    else:\n",
    "        print(\"Sorry! We are outof this product.\")\n",
    "\n",
    "def main():\n",
    "    buy(\"cand\", 5, 250)\n",
    "\n",
    "if __name__=='__main__':\n",
    "    main()"
   ]
  },
  {
   "cell_type": "code",
   "execution_count": 21,
   "metadata": {},
   "outputs": [],
   "source": [
    "#Productcheck.py\n",
    "\n",
    "products = {\"cand\":10, \"juice\": 5, \"pen\": 50}\n",
    "\n",
    "def check(product, num):\n",
    "    return product in products.keys() and num <= products[product]"
   ]
  },
  {
   "cell_type": "code",
   "execution_count": 22,
   "metadata": {},
   "outputs": [
    {
     "data": {
      "text/plain": [
       "dict_keys(['cand', 'juice', 'pen'])"
      ]
     },
     "execution_count": 22,
     "metadata": {},
     "output_type": "execute_result"
    }
   ],
   "source": [
    "products.keys()"
   ]
  }
 ],
 "metadata": {
  "kernelspec": {
   "display_name": "Python 3",
   "language": "python",
   "name": "python3"
  },
  "language_info": {
   "codemirror_mode": {
    "name": "ipython",
    "version": 3
   },
   "file_extension": ".py",
   "mimetype": "text/x-python",
   "name": "python",
   "nbconvert_exporter": "python",
   "pygments_lexer": "ipython3",
   "version": "3.7.2"
  }
 },
 "nbformat": 4,
 "nbformat_minor": 2
}
