{
 "cells": [
  {
   "cell_type": "code",
   "execution_count": 9,
   "metadata": {},
   "outputs": [
    {
     "name": "stdout",
     "output_type": "stream",
     "text": [
      "First argument : Hello\n",
      "Second argument : Everyone\n",
      "Next argument in *args : I\n",
      "Next argument in *args : would\n",
      "Next argument in *args : like\n",
      "Next argument in *args : to\n",
      "Next argument in *args : welcome\n",
      "Next argument in *args : you\n",
      "Next argument in *args : all\n"
     ]
    }
   ],
   "source": [
    "def test_func1(arg1, arg2, *args): #name doesn't matter, you can write *var1, *lalala\n",
    "    print (\"First argument :\", arg1) \n",
    "    print (\"Second argument :\", arg2)\n",
    "    for arg in args: \n",
    "        print(\"Next argument in *args :\", arg) \n",
    "   \n",
    "test_func1('Hello', 'Everyone', 'I', 'would', 'like', 'to', 'welcome','you','all') "
   ]
  },
  {
   "cell_type": "code",
   "execution_count": 11,
   "metadata": {},
   "outputs": [
    {
     "name": "stdout",
     "output_type": "stream",
     "text": [
      "[1, 4, 9, 16, 25, 36, 49, 64, 81]\n",
      "[1, 8, 27, 64, 125, 216, 343, 512, 729]\n"
     ]
    }
   ],
   "source": [
    "def calc_square(numbers):\n",
    "    result = []\n",
    "    for number in numbers:\n",
    "        result.append(number*number)\n",
    "    return result\n",
    "\n",
    "def calc_cube(numbers):\n",
    "    result = []\n",
    "    for number in numbers:\n",
    "        result.append(number*number*number)\n",
    "    return result\n",
    "\n",
    "kil = range(1,10)\n",
    "out_square = calc_square(kil)\n",
    "out_cube = calc_cube(kil)\n",
    "print(out_square)\n",
    "print(out_cube)"
   ]
  },
  {
   "cell_type": "code",
   "execution_count": 12,
   "metadata": {},
   "outputs": [
    {
     "name": "stdout",
     "output_type": "stream",
     "text": [
      "[1, 4, 9, 16, 25]\n"
     ]
    }
   ],
   "source": [
    "def square_numbers(nums):\n",
    "    my_list = []\n",
    "    for i in nums:\n",
    "        my_list.append(i*i)\n",
    "    return my_list\n",
    "\n",
    "my_nums = square_numbers([1,2,3,4,5])\n",
    "\n",
    "print(my_nums)"
   ]
  },
  {
   "cell_type": "code",
   "execution_count": 13,
   "metadata": {},
   "outputs": [
    {
     "name": "stdout",
     "output_type": "stream",
     "text": [
      "<generator object square_numbers_new at 0x104d1ccd0>\n"
     ]
    }
   ],
   "source": [
    "\n",
    "def square_numbers_new(nums):\n",
    "     for i in nums:\n",
    "        yield (i*i)\n",
    "\n",
    "my_nums = square_numbers_new([1,2,3,4,5])\n",
    "\n",
    "print(my_nums)\n",
    "\n"
   ]
  },
  {
   "cell_type": "code",
   "execution_count": 14,
   "metadata": {},
   "outputs": [
    {
     "name": "stdout",
     "output_type": "stream",
     "text": [
      "[1, 4, 9, 16, 25]\n"
     ]
    }
   ],
   "source": [
    "print(list(my_nums))"
   ]
  },
  {
   "cell_type": "code",
   "execution_count": 17,
   "metadata": {},
   "outputs": [
    {
     "name": "stdout",
     "output_type": "stream",
     "text": [
      "1\n",
      "4\n",
      "9\n"
     ]
    }
   ],
   "source": [
    "my_nums = square_numbers_new([1,2,3,4,5])\n",
    "\n",
    "print(next(my_nums)) \n",
    "print(next(my_nums)) \n",
    "print(next(my_nums)) \n",
    "\n",
    "\n"
   ]
  },
  {
   "cell_type": "code",
   "execution_count": 18,
   "metadata": {},
   "outputs": [
    {
     "name": "stdout",
     "output_type": "stream",
     "text": [
      "Object `yield` not found.\n"
     ]
    }
   ],
   "source": []
  },
  {
   "cell_type": "code",
   "execution_count": null,
   "metadata": {},
   "outputs": [],
   "source": [
    "def calc_square(numbers):\n",
    "    result = []\n",
    "    for number in numbers:\n",
    "        result.append(number*number)\n",
    "    return result\n",
    "\n",
    "def calc_cube(numbers):\n",
    "    result = []\n",
    "    for number in numbers:\n",
    "        result.append(number*number*number)\n",
    "    return result\n",
    "\n",
    "array = range(1,10)\n",
    "out_square = calc_square(array)\n",
    "out_cube = calc_cube(array)\n",
    "print(out_square)\n",
    "print(out_cube)"
   ]
  },
  {
   "cell_type": "code",
   "execution_count": 19,
   "metadata": {},
   "outputs": [
    {
     "name": "stdout",
     "output_type": "stream",
     "text": [
      "key =  first ; value =  100\n",
      "key =  mid ; value =  abc\n",
      "key =  last ; value =  True\n"
     ]
    }
   ],
   "source": [
    "def test_func2(**kwargs):  \n",
    "    for key, value in kwargs.items(): \n",
    "        print (\"key = \", key, \";\", \"value = \", value) \n",
    "  \n",
    "\n",
    "test_func2(first =100, mid =\"abc\", last=True)"
   ]
  },
  {
   "cell_type": "code",
   "execution_count": 21,
   "metadata": {},
   "outputs": [
    {
     "name": "stdout",
     "output_type": "stream",
     "text": [
      "[1, 4, 9, 16, 25, 36, 49, 64, 81]\n",
      "[1, 8, 27, 64, 125, 216, 343, 512, 729]\n"
     ]
    }
   ],
   "source": [
    "def calc_square(numbers):\n",
    "    result = []\n",
    "    for number in numbers:\n",
    "        result.append(number*number)\n",
    "    return result\n",
    "\n",
    "def calc_cube(numbers):\n",
    "    result = []\n",
    "    for number in numbers:\n",
    "        result.append(number*number*number)\n",
    "    return result\n",
    "\n",
    "\n",
    "print(out_square)\n",
    "print(out_cube)"
   ]
  },
  {
   "cell_type": "code",
   "execution_count": 24,
   "metadata": {},
   "outputs": [
    {
     "name": "stdout",
     "output_type": "stream",
     "text": [
      "calc_square took:  0.0019073486328125  mil_sec\n",
      "calc_cube took:  0.0030994415283203125  mil_sec\n",
      "[1, 4, 9, 16, 25, 36, 49, 64, 81]\n"
     ]
    }
   ],
   "source": [
    "import time\n",
    "\n",
    "\n",
    "def calc_square(numbers):\n",
    "    start = time.time()\n",
    "    result = []\n",
    "    for number in numbers:\n",
    "        result.append(number*number)\n",
    "    end = time.time()\n",
    "    print('calc_square took: ', str((end-start)*1000), \" mil_sec\")\n",
    "    return result\n",
    "\n",
    "def calc_cube(numbers):\n",
    "    start = time.time()\n",
    "    result = []\n",
    "    for number in numbers:\n",
    "        result.append(number*number*number)\n",
    "    end = time.time()\n",
    "    print('calc_cube took: ', str((end-start)*1000), \" mil_sec\")\n",
    "    return result\n",
    "\n",
    "array = range(1,10)\n",
    "out_square = calc_square(array)\n",
    "out_cube = calc_cube(array)\n",
    "print(out_square)"
   ]
  },
  {
   "cell_type": "code",
   "execution_count": 29,
   "metadata": {},
   "outputs": [
    {
     "name": "stdout",
     "output_type": "stream",
     "text": [
      "<function my_dec at 0x105c9dd40>\n"
     ]
    }
   ],
   "source": [
    "import time\n",
    "\n",
    "def my_dec(func):  #my_dec(calc_square)\n",
    "    def wrapper(*args, **kwargs):  #wrapper(array)\n",
    "        start = time.time()\n",
    "        func(*args,**kwargs) #calc_square(array)\n",
    "        end = time.time()\n",
    "        print(func.__name__ +\" took \" + str((end-start)*1000) + \"mil sec\")\n",
    "    return wrapper\n",
    "\n",
    "\n",
    "@my_dec \n",
    "def calc_square(numbers):\n",
    "    result = []\n",
    "    for number in numbers:\n",
    "        result.append(number*number)\n",
    "    return result\n",
    "\n",
    "@my_dec\n",
    "def calc_cube(numbers):\n",
    "    result = []\n",
    "    for number in numbers:\n",
    "        result.append(number*number*number)\n",
    "    return result\n",
    "\n",
    "array = range(1,100000)\n",
    "out_square = calc_square(array)\n",
    "out_cube = calc_cube(array)"
   ]
  },
  {
   "cell_type": "code",
   "execution_count": 26,
   "metadata": {},
   "outputs": [
    {
     "name": "stdout",
     "output_type": "stream",
     "text": [
      "Object `wrapper` not found.\n"
     ]
    }
   ],
   "source": []
  },
  {
   "cell_type": "code",
   "execution_count": 30,
   "metadata": {},
   "outputs": [
    {
     "name": "stdout",
     "output_type": "stream",
     "text": [
      "before calling the function 2019-11-16 21:28:12.625150\n",
      "Alice\n",
      "after calling the function 2019-11-16 21:28:12.803127\n"
     ]
    }
   ],
   "source": [
    "import datetime\n",
    "\n",
    "def decorator(func):\n",
    "    def wrapper(*args, **kwargs):\n",
    "        print('before calling the function', datetime.datetime.now())\n",
    "        func(*args, **kwargs)\n",
    "        print('after calling the function', datetime.datetime.now())\n",
    "    return wrapper\n",
    "\n",
    "@decorator\n",
    "def printName(name):\n",
    "    for i in range(10000):\n",
    "        a=[0]*10000\n",
    "    print(name)\n",
    "    \n",
    "printName(\"Alice\")"
   ]
  },
  {
   "cell_type": "code",
   "execution_count": 31,
   "metadata": {},
   "outputs": [
    {
     "name": "stdout",
     "output_type": "stream",
     "text": [
      "<b><i>hello world</i></b>\n"
     ]
    }
   ],
   "source": [
    "def makebold(fn):\n",
    "    def wrapped(*args, **kwargs):       \n",
    "        return \"<b>\" + fn(*args, **kwargs) + \"</b>\"\n",
    "    return wrapped\n",
    "\n",
    "def makeitalic(fn):\n",
    "    def wrapped():\n",
    "        return \"<i>\" + fn() + \"</i>\"\n",
    "    return wrapped\n",
    "\n",
    "@makebold\n",
    "@makeitalic\n",
    "def hello():\n",
    "    return \"hello world\"\n",
    "\n",
    "print (hello())"
   ]
  },
  {
   "cell_type": "code",
   "execution_count": 39,
   "metadata": {},
   "outputs": [
    {
     "name": "stdout",
     "output_type": "stream",
     "text": [
      "before calling the function 2019-11-16 21:43:13.853459\n",
      "Alice\n",
      "after calling the function 2019-11-16 21:43:14.026293\n"
     ]
    }
   ],
   "source": [
    "import datetime\n",
    "\n",
    "def decorator(func):\n",
    "    def wrapper(*args, **kwargs):\n",
    "        print('before calling the function', datetime.datetime.now())\n",
    "        func(*args, **kwargs)\n",
    "        print('after calling the function', datetime.datetime.now())\n",
    "    return wrapper\n",
    "\n",
    "@decorator\n",
    "def printName(name):\n",
    "    for i in range(10000):\n",
    "        a=[0]*10000\n",
    "    print(name)\n",
    "    \n",
    "printName(\"Alice\")"
   ]
  },
  {
   "cell_type": "code",
   "execution_count": null,
   "metadata": {},
   "outputs": [],
   "source": [
    "def makebold(fn):\n",
    "    def wrapped(*args, **kwargs):       \n",
    "        return \"<b>\" + fn(*args, **kwargs) + \"</b>\"\n",
    "    return wrapped\n",
    "\n",
    "def makeitalic(fn):\n",
    "    def wrapped():\n",
    "        return \"<i>\" + fn() + \"</i>\"\n",
    "    return wrapped\n",
    "\n",
    "@makebold\n",
    "@makeitalic\n",
    "def hello():\n",
    "    return \"hello world\"\n",
    "\n",
    "print (hello())"
   ]
  },
  {
   "cell_type": "code",
   "execution_count": 40,
   "metadata": {},
   "outputs": [
    {
     "name": "stdout",
     "output_type": "stream",
     "text": [
      "<b>hello world</b>\n"
     ]
    }
   ],
   "source": [
    "def makebold(fn):\n",
    "    def wrapped(*args, **kwargs):       \n",
    "        return \"<b>\" + fn(*args, **kwargs) + \"</b>\"\n",
    "    return wrapped\n",
    "\n",
    "\n",
    "@makebold\n",
    "def hello():\n",
    "    return \"hello world\"\n",
    "\n",
    "print (hello())"
   ]
  },
  {
   "cell_type": "code",
   "execution_count": 42,
   "metadata": {},
   "outputs": [
    {
     "name": "stdout",
     "output_type": "stream",
     "text": [
      "<b>hello world</b>\n"
     ]
    }
   ],
   "source": [
    "def lusi(function):\n",
    "    def wrapper():\n",
    "            return \"<b>\" + function() + \"</b>\"\n",
    "    return wrapper\n",
    "\n",
    "@lusi\n",
    "def jni():\n",
    "    return \"hello world\"\n",
    "\n",
    "print (jni())"
   ]
  },
  {
   "cell_type": "code",
   "execution_count": null,
   "metadata": {},
   "outputs": [],
   "source": []
  }
 ],
 "metadata": {
  "kernelspec": {
   "display_name": "Python 3",
   "language": "python",
   "name": "python3"
  },
  "language_info": {
   "codemirror_mode": {
    "name": "ipython",
    "version": 3
   },
   "file_extension": ".py",
   "mimetype": "text/x-python",
   "name": "python",
   "nbconvert_exporter": "python",
   "pygments_lexer": "ipython3",
   "version": "3.7.4"
  }
 },
 "nbformat": 4,
 "nbformat_minor": 2
}
