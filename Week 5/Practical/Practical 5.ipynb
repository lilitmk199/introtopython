{
 "cells": [
  {
   "cell_type": "markdown",
   "metadata": {},
   "source": [
    "# Functions\n"
   ]
  },
  {
   "cell_type": "markdown",
   "metadata": {},
   "source": [
    "# Problem 1"
   ]
  },
  {
   "cell_type": "code",
   "execution_count": 11,
   "metadata": {},
   "outputs": [
    {
     "name": "stdout",
     "output_type": "stream",
     "text": [
      "5.0\n"
     ]
    }
   ],
   "source": [
    "def average(x,y,z):\n",
    "    return (x+y+z)/3\n",
    "print(average(4,5,6))"
   ]
  },
  {
   "cell_type": "markdown",
   "metadata": {},
   "source": [
    "# Problem 2"
   ]
  },
  {
   "cell_type": "code",
   "execution_count": 29,
   "metadata": {},
   "outputs": [
    {
     "data": {
      "text/plain": [
       "[4, 6, 12, 34]"
      ]
     },
     "execution_count": 29,
     "metadata": {},
     "output_type": "execute_result"
    }
   ],
   "source": [
    "list1 = [4,6,7,12,34]\n",
    "\n",
    "def func1():\n",
    "    return x%2==0\n",
    "\n",
    "list(filter(lambda x:x%2==0,list1))\n",
    "\n"
   ]
  },
  {
   "cell_type": "markdown",
   "metadata": {},
   "source": [
    "# Problem 3"
   ]
  },
  {
   "cell_type": "code",
   "execution_count": 78,
   "metadata": {},
   "outputs": [
    {
     "name": "stdout",
     "output_type": "stream",
     "text": [
      "false\n",
      "false\n"
     ]
    }
   ],
   "source": [
    "import re\n",
    "def func(password):\n",
    "    if len(password)>10:\n",
    "        print(password)\n",
    "    elif not re.search(\"[0-9]\", password):\n",
    "        print(\"false\")\n",
    "    else:\n",
    "        print(\"false\")\n",
    "func(\"hjhshdgukg\")\n",
    "func(\"ghsjg\")\n",
    " \n",
    "   "
   ]
  },
  {
   "cell_type": "code",
   "execution_count": 173,
   "metadata": {},
   "outputs": [
    {
     "ename": "TypeError",
     "evalue": "'<' not supported between instances of 'str' and 'int'",
     "output_type": "error",
     "traceback": [
      "\u001b[0;31m---------------------------------------------------------------------------\u001b[0m",
      "\u001b[0;31mTypeError\u001b[0m                                 Traceback (most recent call last)",
      "\u001b[0;32m<ipython-input-173-cbb212b4ee88>\u001b[0m in \u001b[0;36m<module>\u001b[0;34m\u001b[0m\n\u001b[1;32m     15\u001b[0m \u001b[0mfunc\u001b[0m\u001b[0;34m(\u001b[0m\u001b[0;34m\"78jhshuiuupoiopiu\"\u001b[0m\u001b[0;34m)\u001b[0m\u001b[0;34m\u001b[0m\u001b[0;34m\u001b[0m\u001b[0m\n\u001b[1;32m     16\u001b[0m \u001b[0;34m\u001b[0m\u001b[0m\n\u001b[0;32m---> 17\u001b[0;31m \u001b[0mfunc\u001b[0m\u001b[0;34m(\u001b[0m\u001b[0;34m\"uhyhi888\"\u001b[0m\u001b[0;34m)\u001b[0m\u001b[0;34m\u001b[0m\u001b[0;34m\u001b[0m\u001b[0m\n\u001b[0m\u001b[1;32m     18\u001b[0m \u001b[0;34m\u001b[0m\u001b[0m\n\u001b[1;32m     19\u001b[0m \u001b[0;34m\u001b[0m\u001b[0m\n",
      "\u001b[0;32m<ipython-input-173-cbb212b4ee88>\u001b[0m in \u001b[0;36mfunc\u001b[0;34m(password)\u001b[0m\n\u001b[1;32m      5\u001b[0m     \u001b[0mj\u001b[0m\u001b[0;34m=\u001b[0m\u001b[0;36m0\u001b[0m\u001b[0;34m\u001b[0m\u001b[0;34m\u001b[0m\u001b[0m\n\u001b[1;32m      6\u001b[0m     \u001b[0;32mfor\u001b[0m \u001b[0mj\u001b[0m \u001b[0;32min\u001b[0m \u001b[0mpassword\u001b[0m\u001b[0;34m:\u001b[0m\u001b[0;34m\u001b[0m\u001b[0;34m\u001b[0m\u001b[0m\n\u001b[0;32m----> 7\u001b[0;31m         \u001b[0;32mwhile\u001b[0m \u001b[0mj\u001b[0m\u001b[0;34m<\u001b[0m\u001b[0;36m2\u001b[0m\u001b[0;34m:\u001b[0m\u001b[0;34m\u001b[0m\u001b[0;34m\u001b[0m\u001b[0m\n\u001b[0m\u001b[1;32m      8\u001b[0m             \u001b[0;32mif\u001b[0m \u001b[0;34m\"j\"\u001b[0m\u001b[0;34m.\u001b[0m\u001b[0misdigit\u001b[0m\u001b[0;34m(\u001b[0m\u001b[0;34m)\u001b[0m\u001b[0;34m:\u001b[0m\u001b[0;34m\u001b[0m\u001b[0;34m\u001b[0m\u001b[0m\n\u001b[1;32m      9\u001b[0m                 \u001b[0mj\u001b[0m\u001b[0;34m+=\u001b[0m\u001b[0;36m1\u001b[0m\u001b[0;34m\u001b[0m\u001b[0;34m\u001b[0m\u001b[0m\n",
      "\u001b[0;31mTypeError\u001b[0m: '<' not supported between instances of 'str' and 'int'"
     ]
    }
   ],
   "source": [
    "def func(password):\n",
    "    if len(password)>10:\n",
    "        return(password)\n",
    "        \n",
    "    j=0\n",
    "    for j in password:\n",
    "        while j<2:\n",
    "            if \"j\".isdigit():\n",
    "                j+=1\n",
    "            return password\n",
    "    else: \n",
    "        print(\"NO\")\n",
    "        \n",
    "\n",
    "func(\"78jhshuiuupoiopiu\")\n",
    "\n",
    "func(\"uhyhi888\")\n",
    "\n",
    "\n"
   ]
  },
  {
   "cell_type": "markdown",
   "metadata": {},
   "source": [
    "# Problem 4"
   ]
  },
  {
   "cell_type": "code",
   "execution_count": 71,
   "metadata": {},
   "outputs": [
    {
     "name": "stdout",
     "output_type": "stream",
     "text": [
      "Lilit Welcome to the club!\n"
     ]
    }
   ],
   "source": [
    "def func(name, greeting=\"welcome to the club!\"):\n",
    "    print(name,greeting)\n",
    "    \n",
    "func(\"Lilit\")"
   ]
  },
  {
   "cell_type": "markdown",
   "metadata": {},
   "source": [
    "# Problem 5"
   ]
  },
  {
   "cell_type": "code",
   "execution_count": 164,
   "metadata": {},
   "outputs": [
    {
     "name": "stdout",
     "output_type": "stream",
     "text": [
      "Armen you have not any grade.\n"
     ]
    }
   ],
   "source": [
    "def func (name, *argv):\n",
    "    if len(argv)>0:\n",
    "        print(name, \"your grade is \", sum(argv)/len(argv))\n",
    "    else:\n",
    "        print(name, \"you have not any grade.\")\n",
    "func(\"Armen\")"
   ]
  },
  {
   "cell_type": "markdown",
   "metadata": {},
   "source": [
    "# Problem 6"
   ]
  },
  {
   "cell_type": "code",
   "execution_count": 68,
   "metadata": {
    "scrolled": true
   },
   "outputs": [
    {
     "name": "stdout",
     "output_type": "stream",
     "text": [
      "Name: Ashot\n",
      "Name: Valod\n"
     ]
    }
   ],
   "source": [
    "def func (user, **kwargs):\n",
    "    for key,value in kwargs.items():\n",
    "        if user==\"admin\":\n",
    "            print(\"Name:\", value)\n",
    "        else: \n",
    "            print(\"access denied\")\n",
    "func (\"admin\", name= \"Ashot\", name2=\"Valod\")"
   ]
  },
  {
   "cell_type": "markdown",
   "metadata": {},
   "source": [
    "# Problem 8"
   ]
  },
  {
   "cell_type": "code",
   "execution_count": 112,
   "metadata": {},
   "outputs": [
    {
     "name": "stdout",
     "output_type": "stream",
     "text": [
      "['Anna', 'Edgar']\n",
      "['Anna', 'Edgar', 'Lilit', 'Siranush']\n"
     ]
    }
   ],
   "source": [
    "list1 = [\"Anna\", \"Edgar\"]\n",
    "list2=[\"Anna\",\"Lilit\",\"Siranush\"]\n",
    "\n",
    "def decorator(func):\n",
    "    def wrapper(*argv):\n",
    "        print(list1)\n",
    "        func(*argv)\n",
    "        print(list1)\n",
    "    return wrapper\n",
    "\n",
    "@decorator\n",
    "def add_values(list2):\n",
    "    for x in list2:\n",
    "        if x  not in list1:\n",
    "            list1.append(x)\n",
    "            \n",
    "\n",
    "\n",
    "add_values(list2)"
   ]
  },
  {
   "cell_type": "markdown",
   "metadata": {},
   "source": [
    "\n",
    "# Problem 9\n"
   ]
  },
  {
   "cell_type": "code",
   "execution_count": 137,
   "metadata": {},
   "outputs": [
    {
     "name": "stdout",
     "output_type": "stream",
     "text": [
      "Hi everyone! Welcome to the party!\n"
     ]
    }
   ],
   "source": [
    "def dec_lowercase(func):\n",
    "    def wrapper():\n",
    "        f=func()\n",
    "        lowercase=f[1:].lower()\n",
    "        return f[0]+lowercase\n",
    "    return wrapper\n",
    "\n",
    "def add_string(func):\n",
    "    def wrapper():\n",
    "        f1=func()\n",
    "        add_string=f1+\" Welcome to the party!\"\n",
    "        return add_string\n",
    "    return wrapper\n",
    "\n",
    "\n",
    "@add_string\n",
    "@dec_lowercase\n",
    "\n",
    "def function():\n",
    "    return \"HI EVERYONE!\"\n",
    "\n",
    "print(function())"
   ]
  },
  {
   "cell_type": "markdown",
   "metadata": {},
   "source": [
    "# Problem 10"
   ]
  },
  {
   "cell_type": "code",
   "execution_count": 191,
   "metadata": {},
   "outputs": [
    {
     "name": "stdout",
     "output_type": "stream",
     "text": [
      "[20, 45, 34, 56, 76, 54]\n",
      "20\n",
      "45\n",
      "34\n",
      "56\n",
      "76\n",
      "54\n"
     ]
    }
   ],
   "source": [
    "def list_func(list1):\n",
    "     for i in list1:\n",
    "        yield (i)\n",
    "\n",
    "new_list = list_func([20,45,34,56,76,54])\n",
    "\n",
    "print(list(new_list))\n",
    "\n",
    "new_list = list_func([20,45,34,56,76,54])\n",
    "\n",
    "for n in new_list:\n",
    "    print(n)"
   ]
  },
  {
   "cell_type": "markdown",
   "metadata": {},
   "source": [
    "# Problem 11"
   ]
  },
  {
   "cell_type": "code",
   "execution_count": 212,
   "metadata": {},
   "outputs": [
    {
     "name": "stdout",
     "output_type": "stream",
     "text": [
      "[0, 1, 2, 3, 4, 5, 6, 7, 8, 9, 10]\n"
     ]
    }
   ],
   "source": [
    "def iter_num(n):\n",
    "    for numbers in range(n+1):\n",
    "        yield (numbers)\n",
    "        \n",
    "new= iter_num(10)\n",
    "\n",
    "print(list(new))"
   ]
  },
  {
   "cell_type": "markdown",
   "metadata": {},
   "source": [
    "# Problem 12"
   ]
  },
  {
   "cell_type": "code",
   "execution_count": 219,
   "metadata": {},
   "outputs": [
    {
     "name": "stdout",
     "output_type": "stream",
     "text": [
      "[1, 2, 4, 8, 16, 32, 64, 128]\n"
     ]
    }
   ],
   "source": [
    "def power(max):\n",
    "    for n in range(0,max+1):\n",
    "        yield (2**n)\n",
    "        \n",
    "new=power(7)\n",
    "print(list(new))"
   ]
  },
  {
   "cell_type": "code",
   "execution_count": null,
   "metadata": {},
   "outputs": [],
   "source": []
  }
 ],
 "metadata": {
  "kernelspec": {
   "display_name": "Python 3",
   "language": "python",
   "name": "python3"
  },
  "language_info": {
   "codemirror_mode": {
    "name": "ipython",
    "version": 3
   },
   "file_extension": ".py",
   "mimetype": "text/x-python",
   "name": "python",
   "nbconvert_exporter": "python",
   "pygments_lexer": "ipython3",
   "version": "3.7.4"
  }
 },
 "nbformat": 4,
 "nbformat_minor": 2
}
