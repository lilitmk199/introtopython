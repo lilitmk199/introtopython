{
 "cells": [
  {
   "cell_type": "markdown",
   "metadata": {},
   "source": [
    "# Problem 1"
   ]
  },
  {
   "cell_type": "code",
   "execution_count": null,
   "metadata": {},
   "outputs": [],
   "source": [
    "def func(*argv):\n",
    "    for args in argv:\n",
    "        return max(*argv)\n",
    "    if len(argv)==0:\n",
    "        print(\"No numbers given\")\n",
    "\n",
    "print(func (5,9,6,7,10))\n",
    "\n",
    "func()"
   ]
  },
  {
   "cell_type": "markdown",
   "metadata": {},
   "source": [
    "# Problem 2"
   ]
  },
  {
   "cell_type": "code",
   "execution_count": null,
   "metadata": {},
   "outputs": [],
   "source": [
    "list1=[2,4,5,12,34,56,78,1,2,4,5,12,1]\n",
    "\n",
    "unique_list=[]\n",
    "\n",
    "def func(list1):\n",
    "    for n in list1:\n",
    "        if n not in unique_list:\n",
    "            unique_list.append(n)\n",
    "    for n in unique_list:\n",
    "        print (n)\n",
    "        \n",
    "func([4,6,3,3,2,5,6,4])\n",
    "print(unique_list)"
   ]
  },
  {
   "cell_type": "code",
   "execution_count": null,
   "metadata": {},
   "outputs": [],
   "source": [
    "list1=[2,4,5,12,34,56,78,1,2,4,5,12,1]\n",
    "\n",
    "\n",
    "def func(list1):\n",
    "    for n in list1:\n",
    "        unique.add(n)\n",
    "    for n in unique:\n",
    "        print (n)\n",
    "    \n",
    "func(list1)\n",
    "print(list(unique))"
   ]
  },
  {
   "cell_type": "markdown",
   "metadata": {},
   "source": [
    "# Problem 3"
   ]
  },
  {
   "cell_type": "code",
   "execution_count": null,
   "metadata": {},
   "outputs": [],
   "source": [
    "def dec(func):\n",
    "    def wrapper():\n",
    "        print(\"Before function call\")\n",
    "        func()\n",
    "        print(\"After function call\")\n",
    "    return wrapper\n",
    "\n",
    "\n",
    "@dec\n",
    "def function():\n",
    "    print(\"Inside the function\")\n",
    "\n",
    "function()\n",
    "\n"
   ]
  },
  {
   "cell_type": "markdown",
   "metadata": {},
   "source": [
    "# Problem 4"
   ]
  },
  {
   "cell_type": "code",
   "execution_count": null,
   "metadata": {},
   "outputs": [],
   "source": [
    "def dec(func):\n",
    "    def wrapper():\n",
    "        return func() +\",it's me\"\n",
    "    return wrapper\n",
    "\n",
    "def dec1(func):\n",
    "    def wrapper():\n",
    "        return \"<u>\" +func()+ \"</u>\"\n",
    "    return wrapper\n",
    "@dec1\n",
    "@dec\n",
    "\n",
    "def function():\n",
    "    return(\"Hi\")\n",
    "    \n",
    "print(function())"
   ]
  },
  {
   "cell_type": "markdown",
   "metadata": {},
   "source": [
    "# Problem 5"
   ]
  },
  {
   "cell_type": "code",
   "execution_count": null,
   "metadata": {},
   "outputs": [],
   "source": [
    "def my_range(n):\n",
    "    count=0\n",
    "    for count in range(n+2):\n",
    "        yield count\n",
    "        count+=1\n",
    "    if count== n+2:\n",
    "        print(\"no more values\")\n",
    "\n",
    "\n",
    "gen=my_range(5)\n",
    "\n",
    "\n"
   ]
  },
  {
   "cell_type": "code",
   "execution_count": null,
   "metadata": {},
   "outputs": [],
   "source": [
    "next(gen)"
   ]
  },
  {
   "cell_type": "markdown",
   "metadata": {},
   "source": [
    "# Problem 6"
   ]
  },
  {
   "cell_type": "code",
   "execution_count": null,
   "metadata": {},
   "outputs": [],
   "source": [
    "dict1={\"candy\": 10, \"juice\": 5, \"pen\": 50}\n",
    "\n",
    "def func(arg1, arg2):\n",
    "    for key, value in dict1.items():\n",
    "        if arg1 in dict1 and arg2<=dict1[arg1]:\n",
    "            return True\n",
    "        else:\n",
    "            return False\n",
    "            \n",
    "func(\"candy\",12)\n",
    "func(\"candy\",8)"
   ]
  },
  {
   "cell_type": "code",
   "execution_count": null,
   "metadata": {},
   "outputs": [],
   "source": [
    "import prodcheck\n",
    "\n",
    "def buy(product,num,price):\n",
    "    if prodcheck.func(product, num):\n",
    "        print( \"You bougt\", product,\"and spent\", num*price, \"price.\" )\n",
    "    else:\n",
    "        print(\"Sorry! We are out of this product.\")\n",
    "\n",
    "\n",
    "def main():\n",
    "    return buy(\"candy\",5,30)\n",
    "\n",
    "    \n",
    "main()"
   ]
  },
  {
   "cell_type": "code",
   "execution_count": null,
   "metadata": {},
   "outputs": [],
   "source": []
  }
 ],
 "metadata": {
  "kernelspec": {
   "display_name": "Python 3",
   "language": "python",
   "name": "python3"
  },
  "language_info": {
   "codemirror_mode": {
    "name": "ipython",
    "version": 3
   },
   "file_extension": ".py",
   "mimetype": "text/x-python",
   "name": "python",
   "nbconvert_exporter": "python",
   "pygments_lexer": "ipython3",
   "version": "3.7.4"
  }
 },
 "nbformat": 4,
 "nbformat_minor": 2
}
