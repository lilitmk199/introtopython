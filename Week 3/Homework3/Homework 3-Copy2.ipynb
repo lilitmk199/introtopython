{
 "cells": [
  {
   "cell_type": "markdown",
   "metadata": {},
   "source": [
    "# Lists"
   ]
  },
  {
   "cell_type": "code",
   "execution_count": 1,
   "metadata": {},
   "outputs": [
    {
     "name": "stdout",
     "output_type": "stream",
     "text": [
      "1) 7\n",
      "1) -2\n",
      "2) [8, 7, 5, 4, 1, 0, -1, -2]\n",
      "3) [7, 5]\n",
      "4) [5, 4, 1, 0]\n",
      "7) [8, 7, 4, 1, 0, -1, -2]\n",
      "8) ['Brocoli', 'Carrot', 'Lemon', 'Orange', 'Potatoes', 'Sausages', 'grapes', 'tomatoes']\n",
      "9) [4, 5, 'Lemon', 'Brocoli']\n"
     ]
    }
   ],
   "source": [
    "a= [1,4,5,7,8,-2,0,-1]\n",
    "a[3]\n",
    "\n",
    "print (\"1)\", a[3])\n",
    "print (\"1)\", a[5])\n",
    "\n",
    "a_sorted=a.copy()\n",
    "a_sorted.sort(reverse=True)\n",
    "print(\"2)\",a_sorted)\n",
    "print(\"3)\",a_sorted[1:3])\n",
    "print (\"4)\" ,a_sorted[2:6])\n",
    "del a_sorted [2:3]\n",
    "\n",
    "print(\"7)\", a_sorted)\n",
    "\n",
    "b=[\"grapes\", \"Potatoes\", \"tomatoes\", \"Orange\", \"Lemon\", \"Brocoli\", \"Carrot\", \"Sausages\"]\n",
    "\n",
    "b_sorted=b.copy()\n",
    "b_sorted.sort()\n",
    "\n",
    "print(\"8)\", b_sorted)\n",
    "\n",
    "c1=(a[1:3])\n",
    "c2=(b[4:6])\n",
    "c1.extend(c2)\n",
    "print(\"9)\",c1)"
   ]
  },
  {
   "cell_type": "markdown",
   "metadata": {},
   "source": [
    "# Sets"
   ]
  },
  {
   "cell_type": "code",
   "execution_count": 2,
   "metadata": {},
   "outputs": [
    {
     "name": "stdout",
     "output_type": "stream",
     "text": [
      "3) {False, True, 'Cookies', 8, 'Chocolate', -5, -3}\n",
      "4) {False, True, 8, 10, 14, 'Milk', 'Jelly', 'Chocolate'}\n",
      "5) {False, True, 'Cookies', 8, 10, 14, 'Milk', 'Jelly', 'Chocolate', -5, -3}\n",
      "6) {False, True, 8, 'Chocolate'}\n",
      "7) {False, True, 'Cookies', 'Oreo', 8, 10, 14, 'KitKat', 'Milk', 'Jelly', 'Chocolate', -5, -3}\n",
      "8) {False, True, 'Cookies', 'Oreo', 8, 10, 14, 'KitKat', 'Milk', 'Jelly', 'Chocolate', -5, -3}\n",
      "9) True\n",
      "10) {False, True, 'Cookies', 8, 10, 14, 'KitKat', 'Milk', 'Jelly', 'Chocolate', -5, -3}\n"
     ]
    }
   ],
   "source": [
    "a1=[\"Cookies\",\"Chocolate\", 8, True, -3,-5,\"Chocolate\", 8, False, 8]\n",
    "b1= [8, True, 10, 14, \"Chocolate\", \"Milk\", \"Jelly\", True, False, True]\n",
    "set_a=set(a1)\n",
    "print(\"3)\",set_a)\n",
    "set_b= set(b1)\n",
    "print(\"4)\",set(b1))\n",
    "union_ab=set_a.union(set_b)\n",
    "print(\"5)\",union_ab)\n",
    "intersection_ab=set_a.intersection(set_b)\n",
    "print(\"6)\",intersection_ab)\n",
    "union_ab.add(\"KitKat\")\n",
    "union_ab.add(\"Oreo\")\n",
    "print(\"7)\",union_ab)\n",
    "new_set= union_ab|intersection_ab\n",
    "print(\"8)\",new_set)\n",
    "\n",
    "if \"Chocolate\" in (new_set):\n",
    "    print(\"9)\",\"True\")\n",
    "else:\n",
    "    print(\"False\")\n",
    "\n",
    "new_set.remove(\"Oreo\")\n",
    "\n",
    "print(\"10)\",new_set)\n",
    "\n"
   ]
  },
  {
   "cell_type": "markdown",
   "metadata": {},
   "source": [
    "# Tuples"
   ]
  },
  {
   "cell_type": "code",
   "execution_count": 3,
   "metadata": {},
   "outputs": [
    {
     "name": "stdout",
     "output_type": "stream",
     "text": [
      "2) (1, 'a', -2, 'Anna')\n",
      "3) (1, True, 1, 2, 3)\n",
      "4) 1\n",
      "5) 3\n"
     ]
    }
   ],
   "source": [
    "tuple1=(1,True, \"a\", -2, \"Anna\")\n",
    "tup2= tuple1[0:1]+tuple1[2:]\n",
    "print(\"2)\",tup2)\n",
    "\n",
    "tuple2=(1, 2, 3, 4, 5)\n",
    "tuple3=tuple1[0:2]+tuple2[0:3]\n",
    "print(\"3)\", tuple3)\n",
    "print(\"4)\",tuple3[2])\n",
    "\n",
    "list1=[(1,3,5), (8,9), (\"Anna\",\"Bob\",\"Alice\")]\n",
    "print( \"5)\",list1[0][1])\n",
    "\n"
   ]
  },
  {
   "cell_type": "markdown",
   "metadata": {},
   "source": [
    "# Dictionaries"
   ]
  },
  {
   "cell_type": "code",
   "execution_count": 4,
   "metadata": {},
   "outputs": [
    {
     "name": "stdout",
     "output_type": "stream",
     "text": [
      "1) {'dairy': ['yogurt', 'cheese'], 'fruits': ['banana', 'apple', 'orange', 'lemon', 'apple', 'banana', 'banana'], 'candies': ['mars', 'twix', 'kinder']}\n",
      "2) ['apple', 'apple', 'banana', 'banana', 'banana', 'lemon', 'orange']\n",
      "3) ['apple', 'banana', 'lemon', 'orange']\n"
     ]
    }
   ],
   "source": [
    "market={\"dairy\": [\"yogurt\", \"cheese\"], \"fruits\": [\"banana\", \"apple\", \"orange\", \"lemon\", \"apple\", \"banana\", \"banana\"]}\n",
    "\n",
    "market[\"candies\"]=[\"mars\",\"twix\",\"kinder\"]\n",
    "print(\"1)\",market)\n",
    "a=market.get(\"fruits\")\n",
    "a.sort()\n",
    "print(\"2)\",a)\n",
    "\n",
    "a=list(dict.fromkeys(a))\n",
    "print(\"3)\", a)"
   ]
  },
  {
   "cell_type": "code",
   "execution_count": null,
   "metadata": {},
   "outputs": [],
   "source": []
  }
 ],
 "metadata": {
  "kernelspec": {
   "display_name": "Python 3",
   "language": "python",
   "name": "python3"
  },
  "language_info": {
   "codemirror_mode": {
    "name": "ipython",
    "version": 3
   },
   "file_extension": ".py",
   "mimetype": "text/x-python",
   "name": "python",
   "nbconvert_exporter": "python",
   "pygments_lexer": "ipython3",
   "version": "3.7.4"
  }
 },
 "nbformat": 4,
 "nbformat_minor": 2
}
