{
 "cells": [
  {
   "cell_type": "markdown",
   "metadata": {},
   "source": [
    "# Test 1"
   ]
  },
  {
   "cell_type": "code",
   "execution_count": 11,
   "metadata": {},
   "outputs": [
    {
     "name": "stdout",
     "output_type": "stream",
     "text": [
      "['hello', 1, True]\n",
      "['3', '4', 'a']\n",
      "['hello', 1, True, '3', '4', 'a']\n"
     ]
    }
   ],
   "source": [
    "run Test1.py 3 4 \"a\""
   ]
  },
  {
   "cell_type": "markdown",
   "metadata": {},
   "source": [
    "# Test 2"
   ]
  },
  {
   "cell_type": "code",
   "execution_count": 17,
   "metadata": {},
   "outputs": [
    {
     "name": "stdout",
     "output_type": "stream",
     "text": [
      "['hello', 1, True]\n",
      "['a', '7', '5']\n",
      "['hello', 1, True]\n",
      "['hello', 1, True, 'a', '7', '5']\n"
     ]
    }
   ],
   "source": [
    "run Test2.py \"a\" 7  5"
   ]
  },
  {
   "cell_type": "markdown",
   "metadata": {},
   "source": [
    "# Test 3"
   ]
  },
  {
   "cell_type": "code",
   "execution_count": 30,
   "metadata": {},
   "outputs": [
    {
     "name": "stdout",
     "output_type": "stream",
     "text": [
      "[4, 7, 9, 10, 20, 30, 30, 30, 28, 1, 9, 30]\n",
      "4\n"
     ]
    }
   ],
   "source": [
    "run Test3.py 30"
   ]
  },
  {
   "cell_type": "markdown",
   "metadata": {},
   "source": [
    "# Test 4"
   ]
  },
  {
   "cell_type": "code",
   "execution_count": 33,
   "metadata": {},
   "outputs": [
    {
     "name": "stdout",
     "output_type": "stream",
     "text": [
      "[4, 7, 9, 10, 20, 30, 30, 30, 28, 1, 9, 30]\n",
      "[4, 7, 9, 20, 30, 30, 30, 28, 1, 9, 30]\n"
     ]
    }
   ],
   "source": [
    "run Test4.py 10"
   ]
  },
  {
   "cell_type": "markdown",
   "metadata": {},
   "source": [
    "# Test 5"
   ]
  },
  {
   "cell_type": "code",
   "execution_count": 50,
   "metadata": {},
   "outputs": [
    {
     "name": "stdout",
     "output_type": "stream",
     "text": [
      "[4, 7, 9, 10, 20, 30, 30, 30, 28, 1, 9, 30]\n",
      "[4, 7, 9, 10, 20, 30, 30, 28, 1, 9, 30]\n",
      "[4, 7, 9, 10, 30, 30, 28, 1, 9, 30]\n",
      "[7, 9, 10, 30, 30, 28, 1, 9, 30]\n"
     ]
    }
   ],
   "source": [
    "list5=[4,7, 9, 10, 20, 30, 30, 30, 28, 1, 9, 30]\n",
    "\n",
    "print(list5)\n",
    "\n",
    "#list5.del[1:3]\n",
    "del list5[5]\n",
    "\n",
    "print(list5)\n",
    "\n",
    "del list5 [4]\n",
    "\n",
    "print(list5)\n",
    "\n",
    "del list5 [0]\n",
    "\n",
    "print (list5)\n"
   ]
  },
  {
   "cell_type": "markdown",
   "metadata": {},
   "source": [
    "# Test 6"
   ]
  },
  {
   "cell_type": "code",
   "execution_count": 56,
   "metadata": {},
   "outputs": [
    {
     "name": "stdout",
     "output_type": "stream",
     "text": [
      "[4, 7, 9, 10, 20, 30, 30, 30, 28, 1, 9, 30]\n",
      "[7, 9, 10, 30, 30, 28, 1, 9, 30]\n",
      "[4, 7, 9, 10, 20, 30, 30, 30, 28, 1, 9, 30]\n"
     ]
    }
   ],
   "source": [
    "list5=[4,7, 9, 10, 20, 30, 30, 30, 28, 1, 9, 30]\n",
    "\n",
    "print(list5)\n",
    "\n",
    "list6=list5.copy()\n",
    "\n",
    "del list6[5]\n",
    "\n",
    "del list6 [4]\n",
    "\n",
    "del list6 [0]\n",
    "\n",
    "print(list6)\n",
    "\n",
    "print(list5)\n",
    "\n",
    "\n",
    "\n"
   ]
  },
  {
   "cell_type": "markdown",
   "metadata": {},
   "source": [
    "# Test 7"
   ]
  },
  {
   "cell_type": "code",
   "execution_count": 66,
   "metadata": {},
   "outputs": [
    {
     "name": "stdout",
     "output_type": "stream",
     "text": [
      "[2, 9, 7, 5, 3, 5, 2, 6, 5, 2, 1]\n",
      "[2, 9, 7, 5, 3, 5, 2, 6, 5, 2]\n",
      "[2, 9, 7, 5, 3, 5, 2, 6, 5, 2, 3, 3, 9, 6, 5, 4, 3, 2, 1, 4]\n"
     ]
    }
   ],
   "source": [
    "list1=[2,9, 7, 5, 3, 5, 2, 6, 5,2, 1]\n",
    "list2=[3,3, 9, 6, 5, 4, 3, 2, 1, 4]\n",
    "\n",
    "print(list1)\n",
    "\n",
    "del list1 [-1]\n",
    "\n",
    "print (list1)\n",
    "\n",
    "list1.extend(list2)\n",
    "print (list1)"
   ]
  },
  {
   "cell_type": "markdown",
   "metadata": {},
   "source": [
    "# Test 13"
   ]
  },
  {
   "cell_type": "code",
   "execution_count": 68,
   "metadata": {},
   "outputs": [
    {
     "name": "stdout",
     "output_type": "stream",
     "text": [
      "25\n",
      "9\n"
     ]
    }
   ],
   "source": [
    "tuple1 = (1, 4, 9, 16, 25, 36)\n",
    "print (tuple1[4])\n",
    "print (tuple1[-4])"
   ]
  },
  {
   "cell_type": "markdown",
   "metadata": {},
   "source": [
    "# Test 14"
   ]
  },
  {
   "cell_type": "code",
   "execution_count": 87,
   "metadata": {},
   "outputs": [
    {
     "name": "stdout",
     "output_type": "stream",
     "text": [
      "[1, 4, 9, 16, 25, 36]\n",
      "(1, 4, 9, 16, 'hello', 36)\n"
     ]
    }
   ],
   "source": [
    "tuple1 = (1, 4, 9, 16, 25, 36)\n",
    "\n",
    "t2=list(tuple1)\n",
    "print(t2)\n",
    "\n",
    "tuple5= (\"hello\", )\n",
    "\n",
    "t6=tuple1[:4] + tuple5 + tuple1[5:]\n",
    "print (t6)"
   ]
  },
  {
   "cell_type": "markdown",
   "metadata": {},
   "source": [
    "# Test 8"
   ]
  },
  {
   "cell_type": "code",
   "execution_count": 95,
   "metadata": {},
   "outputs": [
    {
     "name": "stdout",
     "output_type": "stream",
     "text": [
      "{32, 1, 4, 6, 7, 9, 10, 11, 54, 23}\n",
      "{32, 1, 4, 6, 7, 198, 9, 10, 11, 54, 23}\n"
     ]
    }
   ],
   "source": [
    "run Test8.py 198"
   ]
  },
  {
   "cell_type": "markdown",
   "metadata": {},
   "source": [
    "# Test 9"
   ]
  },
  {
   "cell_type": "code",
   "execution_count": 96,
   "metadata": {},
   "outputs": [
    {
     "name": "stdout",
     "output_type": "stream",
     "text": [
      "{32, 1, 4, 6, 7, 9, 10, 11, 54, 23}\n",
      "{32, 1, 4, 6, 7, 9, 10, 11, 23}\n"
     ]
    }
   ],
   "source": [
    "run Test9.py 54"
   ]
  },
  {
   "cell_type": "markdown",
   "metadata": {},
   "source": [
    "# Test 10"
   ]
  },
  {
   "cell_type": "code",
   "execution_count": 99,
   "metadata": {},
   "outputs": [
    {
     "name": "stdout",
     "output_type": "stream",
     "text": [
      "{32, 1, 4, 6, 7, 9, 10, 11, 54, 23}\n",
      "{32, 1, 4, 6, 7, 9, 10, 11, 54, 23}\n"
     ]
    }
   ],
   "source": [
    "run Test10.py 108"
   ]
  },
  {
   "cell_type": "markdown",
   "metadata": {},
   "source": [
    "# Test 11"
   ]
  },
  {
   "cell_type": "code",
   "execution_count": 103,
   "metadata": {},
   "outputs": [
    {
     "name": "stdout",
     "output_type": "stream",
     "text": [
      "{3, 4, 5, 6, 7, 8, 9, 15}\n",
      "{3, 4, 6}\n"
     ]
    }
   ],
   "source": [
    "set1= {3,4,6,9,5,7,8}\n",
    "set2={3,4,6,15}\n",
    "\n",
    "a=set1.union(set2)\n",
    "print (a)\n",
    "b=set1.intersection(set2)\n",
    "print(b)"
   ]
  },
  {
   "cell_type": "code",
   "execution_count": 136,
   "metadata": {},
   "outputs": [
    {
     "name": "stdout",
     "output_type": "stream",
     "text": [
      "{32, 1, 4, 6, 7, 9, 10, 11, 54, 23}\n",
      "1\n",
      "54\n",
      "true\n"
     ]
    }
   ],
   "source": [
    "run Test12.py 35\n"
   ]
  },
  {
   "cell_type": "markdown",
   "metadata": {},
   "source": [
    "# Test 15"
   ]
  },
  {
   "cell_type": "code",
   "execution_count": 146,
   "metadata": {},
   "outputs": [
    {
     "name": "stdout",
     "output_type": "stream",
     "text": [
      "{'name1': 'Lilit', 'name2': 'Ani', 'name3': 'Ashot'}\n",
      "{'name1': 'Lilit', 'name2': 'Ani', 'name3': 'Ashot', 'name4': 'Siranush'}\n"
     ]
    }
   ],
   "source": [
    "run Test15.py \"name4\" \"Siranush\""
   ]
  },
  {
   "cell_type": "markdown",
   "metadata": {},
   "source": [
    "# Test 16"
   ]
  },
  {
   "cell_type": "code",
   "execution_count": 179,
   "metadata": {},
   "outputs": [
    {
     "name": "stdout",
     "output_type": "stream",
     "text": [
      "(1, 'a')\n"
     ]
    }
   ],
   "source": [
    "list1=[(1, \"a\"), (2, \"b\"), (3, \"c\")]\n",
    "\n",
    "print(list1[0])\n",
    "\n",
    "\n",
    "list1[0][0]\n",
    "d = {list1[0][0]:1}\n",
    "\n",
    "       \n"
   ]
  },
  {
   "cell_type": "code",
   "execution_count": 180,
   "metadata": {},
   "outputs": [
    {
     "data": {
      "text/plain": [
       "{1: 'a', 2: 'b', 3: 'c'}"
      ]
     },
     "execution_count": 180,
     "metadata": {},
     "output_type": "execute_result"
    }
   ],
   "source": [
    "dict(list1)"
   ]
  },
  {
   "cell_type": "code",
   "execution_count": 182,
   "metadata": {},
   "outputs": [
    {
     "data": {
      "text/plain": [
       "['__add__',\n",
       " '__class__',\n",
       " '__contains__',\n",
       " '__delattr__',\n",
       " '__delitem__',\n",
       " '__dir__',\n",
       " '__doc__',\n",
       " '__eq__',\n",
       " '__format__',\n",
       " '__ge__',\n",
       " '__getattribute__',\n",
       " '__getitem__',\n",
       " '__gt__',\n",
       " '__hash__',\n",
       " '__iadd__',\n",
       " '__imul__',\n",
       " '__init__',\n",
       " '__init_subclass__',\n",
       " '__iter__',\n",
       " '__le__',\n",
       " '__len__',\n",
       " '__lt__',\n",
       " '__mul__',\n",
       " '__ne__',\n",
       " '__new__',\n",
       " '__reduce__',\n",
       " '__reduce_ex__',\n",
       " '__repr__',\n",
       " '__reversed__',\n",
       " '__rmul__',\n",
       " '__setattr__',\n",
       " '__setitem__',\n",
       " '__sizeof__',\n",
       " '__str__',\n",
       " '__subclasshook__',\n",
       " 'append',\n",
       " 'clear',\n",
       " 'copy',\n",
       " 'count',\n",
       " 'extend',\n",
       " 'index',\n",
       " 'insert',\n",
       " 'pop',\n",
       " 'remove',\n",
       " 'reverse',\n",
       " 'sort']"
      ]
     },
     "execution_count": 182,
     "metadata": {},
     "output_type": "execute_result"
    }
   ],
   "source": [
    "a=list()\n",
    "dir(a)"
   ]
  },
  {
   "cell_type": "code",
   "execution_count": 184,
   "metadata": {},
   "outputs": [],
   "source": [
    "?a.insert"
   ]
  },
  {
   "cell_type": "code",
   "execution_count": 193,
   "metadata": {},
   "outputs": [
    {
     "name": "stdout",
     "output_type": "stream",
     "text": [
      "[7, 3, 5, 6]\n"
     ]
    }
   ],
   "source": [
    "a=[3,5,6]\n",
    "a.insert(0,7)\n",
    "print(a)"
   ]
  },
  {
   "cell_type": "code",
   "execution_count": 195,
   "metadata": {},
   "outputs": [
    {
     "ename": "NameError",
     "evalue": "name 'rmul' is not defined",
     "output_type": "error",
     "traceback": [
      "\u001b[0;31m---------------------------------------------------------------------------\u001b[0m",
      "\u001b[0;31mNameError\u001b[0m                                 Traceback (most recent call last)",
      "\u001b[0;32m<ipython-input-195-dd2ba65c289b>\u001b[0m in \u001b[0;36m<module>\u001b[0;34m\u001b[0m\n\u001b[1;32m      1\u001b[0m \u001b[0mrepr\u001b[0m\u001b[0;34m(\u001b[0m\u001b[0ma\u001b[0m\u001b[0;34m)\u001b[0m\u001b[0;34m\u001b[0m\u001b[0;34m\u001b[0m\u001b[0m\n\u001b[0;32m----> 2\u001b[0;31m \u001b[0mrmul\u001b[0m\u001b[0;34m(\u001b[0m\u001b[0ma\u001b[0m\u001b[0;34m)\u001b[0m\u001b[0;34m\u001b[0m\u001b[0;34m\u001b[0m\u001b[0m\n\u001b[0m",
      "\u001b[0;31mNameError\u001b[0m: name 'rmul' is not defined"
     ]
    }
   ],
   "source": [
    "repr(a)\n",
    "rmul(a)"
   ]
  },
  {
   "cell_type": "code",
   "execution_count": null,
   "metadata": {},
   "outputs": [],
   "source": []
  }
 ],
 "metadata": {
  "kernelspec": {
   "display_name": "Python 3",
   "language": "python",
   "name": "python3"
  },
  "language_info": {
   "codemirror_mode": {
    "name": "ipython",
    "version": 3
   },
   "file_extension": ".py",
   "mimetype": "text/x-python",
   "name": "python",
   "nbconvert_exporter": "python",
   "pygments_lexer": "ipython3",
   "version": "3.7.4"
  }
 },
 "nbformat": 4,
 "nbformat_minor": 2
}
