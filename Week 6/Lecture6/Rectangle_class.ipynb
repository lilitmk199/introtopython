{
 "cells": [
  {
   "cell_type": "markdown",
   "metadata": {},
   "source": [
    "### Create a class Rectange.\n",
    "#### Attributes -> length, width\n",
    "#### Methods -> perimeter, area"
   ]
  },
  {
   "cell_type": "markdown",
   "metadata": {},
   "source": [
    "#### Create 2 instances of the class Rectangle:\n",
    "\n",
    "    rect1 with length = 10 and width = 5\n",
    "    rect2 with length = 12 and width = 4"
   ]
  },
  {
   "cell_type": "code",
   "execution_count": 1,
   "metadata": {
    "collapsed": true
   },
   "outputs": [],
   "source": [
    "import time\n",
    "\n",
    "            \n",
    "class Rectangle:\n",
    "    def __init__(self, length, width):\n",
    "        self.length = length\n",
    "        self.width = width\n",
    "        \n",
    "    def perimeter(self):\n",
    "        print('The perimeter is: ', 2*self.length+2*self.width)\n",
    "        \n",
    "    def area(self):\n",
    "        return self.length*self.width\n",
    "    \n",
    "\n",
    "    def compare(self, second_rec):\n",
    "        print('area of our rectangle: ', self.area(), 'VS', 'area of the second rectangle: ', second_rec.area())"
   ]
  },
  {
   "cell_type": "code",
   "execution_count": 2,
   "metadata": {
    "collapsed": false
   },
   "outputs": [
    {
     "name": "stdout",
     "output_type": "stream",
     "text": [
      "area of our rectangle:  50 VS area of the second rectangle:  48\n"
     ]
    }
   ],
   "source": [
    "rect1 = Rectangle(10, 5)\n",
    "rect2 = Rectangle(12, 4)\n",
    "rect1.compare(rect2)"
   ]
  },
  {
   "cell_type": "code",
   "execution_count": 3,
   "metadata": {
    "collapsed": false
   },
   "outputs": [
    {
     "name": "stdout",
     "output_type": "stream",
     "text": [
      "The perimeter is:  32\n"
     ]
    }
   ],
   "source": [
    "rect2.perimeter()"
   ]
  },
  {
   "cell_type": "code",
   "execution_count": 4,
   "metadata": {
    "collapsed": false
   },
   "outputs": [
    {
     "data": {
      "text/plain": [
       "50"
      ]
     },
     "execution_count": 4,
     "metadata": {},
     "output_type": "execute_result"
    }
   ],
   "source": [
    "rect1.area()"
   ]
  },
  {
   "cell_type": "markdown",
   "metadata": {},
   "source": [
    "### Adding a decorator"
   ]
  },
  {
   "cell_type": "code",
   "execution_count": 9,
   "metadata": {
    "collapsed": true
   },
   "outputs": [],
   "source": [
    "import time\n",
    "\n",
    "\n",
    "\n",
    "def dec(func):\n",
    "    def wrapper(*args, **kwargs):\n",
    "        t1 = time.time()\n",
    "        func(*args, **kwargs)\n",
    "        t2 = time.time()\n",
    "        print('time: ', t2-t1)\n",
    "    return wrapper\n",
    "            \n",
    "class Rectangle:\n",
    "    def __init__(self, length, width):\n",
    "        self.length = length\n",
    "        self.width = width\n",
    "        \n",
    "    def perimeter(self):\n",
    "        print('The perimeter is: ', 2*self.length+2*self.width)\n",
    "        \n",
    "    def area(self):\n",
    "        return self.length*self.width\n",
    "    \n",
    "    @dec\n",
    "    def compare(self, second_rec):\n",
    "        print('area of our rectangle: ', self.area(), 'VS', 'area of the second rectangle: ', second_rec.area())"
   ]
  },
  {
   "cell_type": "code",
   "execution_count": 10,
   "metadata": {
    "collapsed": false
   },
   "outputs": [
    {
     "name": "stdout",
     "output_type": "stream",
     "text": [
      "area of our rectangle:  50 VS area of the second rectangle:  48\n",
      "time:  0.0009984970092773438\n"
     ]
    }
   ],
   "source": [
    "rect1 = Rectangle(10, 5)\n",
    "rect2 = Rectangle(12, 4)\n",
    "rect1.compare(rect2)"
   ]
  },
  {
   "cell_type": "code",
   "execution_count": 11,
   "metadata": {
    "collapsed": true
   },
   "outputs": [],
   "source": [
    "import time\n",
    "\n",
    "\n",
    "            \n",
    "class Rectangle:\n",
    "    def __init__(self, length, width):\n",
    "        self.length = length\n",
    "        self.width = width\n",
    "        \n",
    "        \n",
    "    def dec(func):\n",
    "        def wrapper(*args, **kwargs):\n",
    "            t1 = time.time()\n",
    "            func(*args, **kwargs)\n",
    "            t2 = time.time()\n",
    "            print('time: ', t2-t1)\n",
    "        return wrapper\n",
    "        \n",
    "    def perimeter(self):\n",
    "        print('The perimeter is: ', 2*self.length+2*self.width)\n",
    "        \n",
    "    def area(self):\n",
    "        return self.length*self.width\n",
    "    \n",
    "    @dec\n",
    "    def compare(self, second_rec):\n",
    "        print('area of our rectangle: ', self.area(), 'VS', 'area of the second rectangle: ', second_rec.area())"
   ]
  },
  {
   "cell_type": "code",
   "execution_count": 8,
   "metadata": {
    "collapsed": false
   },
   "outputs": [
    {
     "name": "stdout",
     "output_type": "stream",
     "text": [
      "area of our rectangle:  50 VS area of the second rectangle:  48\n",
      "time:  0.0009982585906982422\n"
     ]
    }
   ],
   "source": [
    "rect1 = Rectangle(10, 5)\n",
    "rect2 = Rectangle(12, 4)\n",
    "rect1.compare(rect2)"
   ]
  }
 ],
 "metadata": {
  "kernelspec": {
   "display_name": "Python 3",
   "language": "python",
   "name": "python3"
  },
  "language_info": {
   "codemirror_mode": {
    "name": "ipython",
    "version": 3
   },
   "file_extension": ".py",
   "mimetype": "text/x-python",
   "name": "python",
   "nbconvert_exporter": "python",
   "pygments_lexer": "ipython3",
   "version": "3.6.6"
  }
 },
 "nbformat": 4,
 "nbformat_minor": 2
}
