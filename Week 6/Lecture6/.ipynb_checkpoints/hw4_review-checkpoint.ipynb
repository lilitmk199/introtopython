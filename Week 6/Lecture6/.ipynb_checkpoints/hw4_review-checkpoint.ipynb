{
 "cells": [
  {
   "cell_type": "markdown",
   "metadata": {},
   "source": [
    "## Problem2"
   ]
  },
  {
   "cell_type": "markdown",
   "metadata": {},
   "source": [
    "```\n",
    "Ստեղծեք d dictionary-ն ու դրան վերագրեք {“name”: “Armen”, “age”: 15, “grades”: [10, 8, 8, 4, 6, 7] } արժեքը։ Գրեք հետևյալ ծրագիրը՝\n",
    "Վերցրեք d-ից Armen-ի գնահատականներով list-ը ու հաշվեք գնահատականների միջինը՝ օգտագործելով համապատասխան ֆունկցիա։ Եթե գնահատականների միջինը 7ից մեծ է՝ տպեք “Good job”, հակառակ դեպքում տպեք “You need to work more”.\n",
    "```"
   ]
  },
  {
   "cell_type": "code",
   "execution_count": null,
   "metadata": {},
   "outputs": [],
   "source": [
    "d={\"name\": \"Armen\", \"age\": 15, \"grades\": [10, 8, 8,4, 6, 7] }\n",
    "grade=d[\"grades\"]\n",
    "\n",
    "\n",
    "s=0\n",
    "for i in grade:\n",
    "    s+=i\n",
    "if s/len(grade) >7 :\n",
    "    print(\"Good job\")\n",
    "else:\n",
    "    print(\"You need to work more\")"
   ]
  },
  {
   "cell_type": "markdown",
   "metadata": {},
   "source": [
    "## Problem4"
   ]
  },
  {
   "cell_type": "markdown",
   "metadata": {},
   "source": [
    "```\n",
    "Ստեղծեք երկու list տիպի փոփոխականներ, list1 = [1, 3, 5, 7, 9, 11, 13, 15] և list2 = [4, 6, 14, 11, 8, 16]։ For ցիկլով անցեք list1-ի արժեքներով ու հենց հանդիպեք այնպիսի արժեքի որը կա նաև list2-ում, դուրս թռեք (break) ցիկլից։ \n",
    "```"
   ]
  },
  {
   "cell_type": "code",
   "execution_count": 2,
   "metadata": {},
   "outputs": [],
   "source": [
    "#not optimal - 2 loops\n",
    "list1= [1,3,5,7,9,11,13,15]\n",
    "list2=[4,6,14,11,8,16]\n",
    "for l1 in list1:\n",
    "    for l2 in list2:\n",
    "        if l1==l2:\n",
    "            break"
   ]
  },
  {
   "cell_type": "code",
   "execution_count": 5,
   "metadata": {},
   "outputs": [],
   "source": [
    "#more optimal - 1 loop\n",
    "list1= [1,3,5,7,9,11,13,15]\n",
    "list2=[4,6,14,11,8,16]\n",
    "for l1 in list1:\n",
    "    if l1 in list2:\n",
    "        break"
   ]
  },
  {
   "cell_type": "markdown",
   "metadata": {},
   "source": [
    "## Problem5"
   ]
  },
  {
   "cell_type": "markdown",
   "metadata": {},
   "source": [
    "```\n",
    "Ստեղծեք menu list-ը ու դրան վերագրեք ['ice cream', 'chocolate', 'apple crisp', 'cookies'] արժեքը: Ստեղծեք desert փոփոխականը ու դրան վերագրեք user-ի ներմուծած String տիպի արժեքը (օգտագործելով input() ֆունկցիան)։ Գրեք հետևյալ ծրագիրը՝\n",
    "Եթե user-ի ներմուծած desert արժեքը կա menu list-ի մեջ, ուրեմն ծրագիրը տպում է  “Your desert will arrive in 10 minutes”, հակառակ դեպքում տպում է “Please choose another desert” ու կրկին user-ից input ուզում մինչև որ user-ի ցանկացած desert-ը լինի menu list-ից։\n",
    "```"
   ]
  },
  {
   "cell_type": "code",
   "execution_count": null,
   "metadata": {},
   "outputs": [],
   "source": [
    "menu=['ice-cream','chocolate','apple crisp','cookies']\n",
    "\n",
    "desert = input(\"desert: \")\n",
    "while True:\n",
    "    \n",
    "    if desert in menu:\n",
    "        print(\"Your desert will arive in 10 minutes\")\n",
    "        break\n",
    "    else:\n",
    "        print(\"Please choose another desert: \")"
   ]
  },
  {
   "cell_type": "code",
   "execution_count": null,
   "metadata": {},
   "outputs": [],
   "source": [
    "menu=['ice-cream','chocolate','apple crisp','cookies']\n",
    "\n",
    "while True:\n",
    "    desert = input(\"desert: \")\n",
    "    if desert in menu:\n",
    "        print(\"Your desert will arive in 10 minutes\")\n",
    "        break\n",
    "    else:\n",
    "        print(\"Please choose another desert: \")"
   ]
  },
  {
   "cell_type": "markdown",
   "metadata": {},
   "source": [
    "## Problem7"
   ]
  },
  {
   "cell_type": "markdown",
   "metadata": {},
   "source": [
    "```\n",
    "Ստեղծեք list4 list-ը, որը պարունակում է հետևյալ արժեքները [[10, 20, 40], [40, 50, 60], [70, 80, 90]]։ list4 list-ի բոլոր list արժեքների վերջին արժեքները փոխանակեք 100-ով ու պահեք list5 list-ի մեջ։ Տպեք list4 ու list5 list-երը։ \n",
    "```"
   ]
  },
  {
   "cell_type": "code",
   "execution_count": null,
   "metadata": {},
   "outputs": [],
   "source": [
    "list4=[[10, 20, 40],[40, 50, 60],[70, 80, 90]]                               \n",
    "list4[0][2]=100\n",
    "list4[1][2]=100\n",
    "list4[2][2]=100\n",
    "list5=[x for x in list4]\n",
    "print(list5)"
   ]
  },
  {
   "cell_type": "code",
   "execution_count": null,
   "metadata": {},
   "outputs": [],
   "source": [
    "l4=[[10, 20, 40], [40, 50, 60], [70, 80, 90]]\n",
    "l5=[[l4[x][y] for y in range(2)] for x in range(3)]\n",
    "l5[0].append(100)\n",
    "l5[1].append(100)\n",
    "l5[2].append(100)\n",
    "print(l4)\n",
    "print(l5)"
   ]
  },
  {
   "cell_type": "code",
   "execution_count": null,
   "metadata": {},
   "outputs": [],
   "source": [
    "list4= [[10, 20, 40], [40, 50, 60],[70, 80, 90]]\n",
    "\n",
    "list5=[i[:-1]+[100] for i in list4]\n",
    "\n",
    "print(list5)"
   ]
  }
 ],
 "metadata": {
  "kernelspec": {
   "display_name": "Python 3",
   "language": "python",
   "name": "python3"
  },
  "language_info": {
   "codemirror_mode": {
    "name": "ipython",
    "version": 3
   },
   "file_extension": ".py",
   "mimetype": "text/x-python",
   "name": "python",
   "nbconvert_exporter": "python",
   "pygments_lexer": "ipython3",
   "version": "3.7.2"
  }
 },
 "nbformat": 4,
 "nbformat_minor": 2
}
