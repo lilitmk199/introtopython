{
 "cells": [
  {
   "cell_type": "markdown",
   "metadata": {},
   "source": [
    "# Problem 1\n"
   ]
  },
  {
   "cell_type": "code",
   "execution_count": 14,
   "metadata": {},
   "outputs": [
    {
     "name": "stdout",
     "output_type": "stream",
     "text": [
      "A red circle with radius 39\n"
     ]
    }
   ],
   "source": [
    "class Circle:\n",
    "    def __init__(self, radius, color):\n",
    "        self.radius=radius\n",
    "        self.color=color\n",
    "    def getDesc(self):\n",
    "        print (\"A\", self.color, \"circle with radius\", self.radius)\n",
    "\n",
    "circle1=Circle(39,\"red\")\n",
    "circle1.getDesc()\n",
    "                "
   ]
  },
  {
   "cell_type": "markdown",
   "metadata": {},
   "source": [
    "# Problem 2"
   ]
  },
  {
   "cell_type": "code",
   "execution_count": 28,
   "metadata": {},
   "outputs": [
    {
     "name": "stdout",
     "output_type": "stream",
     "text": [
      "I am a string\n",
      "I AM A STRING\n"
     ]
    }
   ],
   "source": [
    "class String:\n",
    "    def __init__(self, my_str):\n",
    "        self.my_str=my_str\n",
    "    def get_String(self):\n",
    "        print(self.my_str)\n",
    "    def print_String(self):\n",
    "        print(self.my_str.upper())\n",
    "        \n",
    "string1=String(\"I am a string\")\n",
    "string1.get_String()\n",
    "string1.print_String()"
   ]
  },
  {
   "cell_type": "markdown",
   "metadata": {},
   "source": [
    "# Problem 3"
   ]
  },
  {
   "cell_type": "code",
   "execution_count": 52,
   "metadata": {},
   "outputs": [
    {
     "name": "stdout",
     "output_type": "stream",
     "text": [
      "Armen Ashotyan\n",
      "High\n"
     ]
    }
   ],
   "source": [
    "class Employee:\n",
    "    def __init__(self,name, last_name, monthly_salary):\n",
    "        self.name=name\n",
    "        self.last_name=last_name\n",
    "        self.__monthly_salary=monthly_salary\n",
    "    def getFullName(self):\n",
    "        print (self.name, self.last_name)\n",
    "    def annualSalary(self):\n",
    "        if self.__monthly_salary*12>100:\n",
    "            print (\"High\")\n",
    "        else:\n",
    "            print(\"Low\")\n",
    "            \n",
    "            \n",
    "emp1=Employee(\"Armen\", \"Ashotyan\", 100)\n",
    "emp1.getFullName()\n",
    "emp1.annualSalary()\n"
   ]
  },
  {
   "cell_type": "markdown",
   "metadata": {},
   "source": [
    "# Problem 4"
   ]
  },
  {
   "cell_type": "code",
   "execution_count": 126,
   "metadata": {},
   "outputs": [
    {
     "name": "stdout",
     "output_type": "stream",
     "text": [
      "BMW\n",
      "Second is better than first\n",
      "First is better than second\n",
      "Second is better than first\n"
     ]
    }
   ],
   "source": [
    "class Car:\n",
    "    def __init__(self,model,color,max_speed):\n",
    "        self.model=model\n",
    "        self.color=color\n",
    "        self.max_speed=max_speed\n",
    "        \n",
    "    def  compareCar(self, Car): \n",
    "        if self.max_speed>Car.max_speed:\n",
    "            print(\"First is better than second\")\n",
    "        else:\n",
    "            print(\"Second is better than first\")\n",
    "            \n",
    "\n",
    "cr1=Car(\"BMW\", \"red\", 180)  \n",
    "car2=Car(\"Audi\",\"black\", 200)\n",
    "car3=Car(\"gh\",\"yu\",40)\n",
    "\n",
    "print(car1.model)\n",
    "car1.compareCar(car2)\n",
    "car2.compareCar(car1)\n",
    "car3.compareCar(car1)"
   ]
  },
  {
   "cell_type": "markdown",
   "metadata": {},
   "source": [
    "# Problem 5"
   ]
  },
  {
   "cell_type": "code",
   "execution_count": 110,
   "metadata": {},
   "outputs": [
    {
     "name": "stdout",
     "output_type": "stream",
     "text": [
      "Welcome to your car Ara\n",
      "This is not your car\n",
      "90.0\n"
     ]
    }
   ],
   "source": [
    "class Police_car:\n",
    "    def __init__(self,owner, price, pass_code):\n",
    "        self.owner=owner\n",
    "        self.price=price\n",
    "        self.__pass_code=pass_code\n",
    "        \n",
    "    tax_value=0.2\n",
    "    \n",
    "    def tax(self):\n",
    "        self.tax_price=self.price*Police_car.tax_value\n",
    "        print(self.tax_price)\n",
    "        \n",
    "    def greeting(self):\n",
    "        if self.__pass_code==\"admin\":\n",
    "            print(\"Welcome to your car\",self.owner)\n",
    "        else:\n",
    "            print(\"This is not your car\")\n",
    "\n",
    "police_car1=Police_car(\"Ara\", 450, \"admin\")\n",
    "police_car1.greeting()\n",
    "police_car2=Police_car(\"Anna\",500, \"policeman\")       \n",
    "police_car2.greeting()\n",
    "\n",
    "police_car1.tax()"
   ]
  },
  {
   "cell_type": "markdown",
   "metadata": {},
   "source": [
    "# Problem 6"
   ]
  },
  {
   "cell_type": "code",
   "execution_count": 121,
   "metadata": {},
   "outputs": [
    {
     "ename": "AssertionError",
     "evalue": "I won't wake you up today",
     "output_type": "error",
     "traceback": [
      "\u001b[0;31m---------------------------------------------------------------------------\u001b[0m",
      "\u001b[0;31mAssertionError\u001b[0m                            Traceback (most recent call last)",
      "\u001b[0;32m<ipython-input-121-6da6a2361c0a>\u001b[0m in \u001b[0;36m<module>\u001b[0;34m\u001b[0m\n\u001b[1;32m      3\u001b[0m     \u001b[0;32mreturn\u001b[0m \u001b[0;34m\"ok\"\u001b[0m\u001b[0;34m\u001b[0m\u001b[0;34m\u001b[0m\u001b[0m\n\u001b[1;32m      4\u001b[0m \u001b[0mAlarm\u001b[0m\u001b[0;34m(\u001b[0m\u001b[0;34m\"Monday\"\u001b[0m\u001b[0;34m)\u001b[0m\u001b[0;34m\u001b[0m\u001b[0;34m\u001b[0m\u001b[0m\n\u001b[0;32m----> 5\u001b[0;31m \u001b[0mAlarm\u001b[0m\u001b[0;34m(\u001b[0m\u001b[0;34m\"Sunday\"\u001b[0m\u001b[0;34m)\u001b[0m\u001b[0;34m\u001b[0m\u001b[0;34m\u001b[0m\u001b[0m\n\u001b[0m",
      "\u001b[0;32m<ipython-input-121-6da6a2361c0a>\u001b[0m in \u001b[0;36mAlarm\u001b[0;34m(day)\u001b[0m\n\u001b[1;32m      1\u001b[0m \u001b[0;32mdef\u001b[0m \u001b[0mAlarm\u001b[0m\u001b[0;34m(\u001b[0m\u001b[0mday\u001b[0m\u001b[0;34m)\u001b[0m\u001b[0;34m:\u001b[0m\u001b[0;34m\u001b[0m\u001b[0;34m\u001b[0m\u001b[0m\n\u001b[0;32m----> 2\u001b[0;31m     \u001b[0;32massert\u001b[0m \u001b[0;34m(\u001b[0m\u001b[0mday\u001b[0m\u001b[0;34m)\u001b[0m\u001b[0;34m!=\u001b[0m\u001b[0;34m\"Sunday\"\u001b[0m\u001b[0;34m,\u001b[0m \u001b[0;34m\"I won't wake you up today\"\u001b[0m\u001b[0;34m\u001b[0m\u001b[0;34m\u001b[0m\u001b[0m\n\u001b[0m\u001b[1;32m      3\u001b[0m     \u001b[0;32mreturn\u001b[0m \u001b[0;34m\"ok\"\u001b[0m\u001b[0;34m\u001b[0m\u001b[0;34m\u001b[0m\u001b[0m\n\u001b[1;32m      4\u001b[0m \u001b[0mAlarm\u001b[0m\u001b[0;34m(\u001b[0m\u001b[0;34m\"Monday\"\u001b[0m\u001b[0;34m)\u001b[0m\u001b[0;34m\u001b[0m\u001b[0;34m\u001b[0m\u001b[0m\n\u001b[1;32m      5\u001b[0m \u001b[0mAlarm\u001b[0m\u001b[0;34m(\u001b[0m\u001b[0;34m\"Sunday\"\u001b[0m\u001b[0;34m)\u001b[0m\u001b[0;34m\u001b[0m\u001b[0;34m\u001b[0m\u001b[0m\n",
      "\u001b[0;31mAssertionError\u001b[0m: I won't wake you up today"
     ]
    }
   ],
   "source": [
    "def Alarm(day):\n",
    "    assert (day)!=\"Sunday\", \"I won't wake you up today\"\n",
    "    return \"ok\"\n",
    "Alarm(\"Monday\")\n",
    "Alarm(\"Sunday\")\n"
   ]
  },
  {
   "cell_type": "markdown",
   "metadata": {},
   "source": [
    "# Problem 7"
   ]
  },
  {
   "cell_type": "code",
   "execution_count": 144,
   "metadata": {},
   "outputs": [
    {
     "ename": "AssertionError",
     "evalue": "Argumnets of type int are required",
     "output_type": "error",
     "traceback": [
      "\u001b[0;31m---------------------------------------------------------------------------\u001b[0m",
      "\u001b[0;31mAssertionError\u001b[0m                            Traceback (most recent call last)",
      "\u001b[0;32m<ipython-input-144-ce611853de57>\u001b[0m in \u001b[0;36m<module>\u001b[0;34m\u001b[0m\n\u001b[1;32m      3\u001b[0m     \u001b[0;32mreturn\u001b[0m \u001b[0mx\u001b[0m\u001b[0;34m+\u001b[0m\u001b[0my\u001b[0m\u001b[0;34m\u001b[0m\u001b[0;34m\u001b[0m\u001b[0m\n\u001b[1;32m      4\u001b[0m \u001b[0;34m\u001b[0m\u001b[0m\n\u001b[0;32m----> 5\u001b[0;31m \u001b[0msum\u001b[0m\u001b[0;34m(\u001b[0m\u001b[0;36m5\u001b[0m\u001b[0;34m,\u001b[0m\u001b[0;34m\"orange\"\u001b[0m\u001b[0;34m)\u001b[0m\u001b[0;34m\u001b[0m\u001b[0;34m\u001b[0m\u001b[0m\n\u001b[0m",
      "\u001b[0;32m<ipython-input-144-ce611853de57>\u001b[0m in \u001b[0;36msum\u001b[0;34m(x, y)\u001b[0m\n\u001b[1;32m      1\u001b[0m \u001b[0;32mdef\u001b[0m \u001b[0msum\u001b[0m\u001b[0;34m(\u001b[0m\u001b[0mx\u001b[0m\u001b[0;34m,\u001b[0m \u001b[0my\u001b[0m\u001b[0;34m)\u001b[0m\u001b[0;34m:\u001b[0m\u001b[0;34m\u001b[0m\u001b[0;34m\u001b[0m\u001b[0m\n\u001b[0;32m----> 2\u001b[0;31m     \u001b[0;32massert\u001b[0m \u001b[0misinstance\u001b[0m \u001b[0;34m(\u001b[0m\u001b[0mx\u001b[0m\u001b[0;34m,\u001b[0m\u001b[0mint\u001b[0m\u001b[0;34m)\u001b[0m\u001b[0;34m==\u001b[0m\u001b[0;32mTrue\u001b[0m \u001b[0;32mand\u001b[0m \u001b[0misinstance\u001b[0m \u001b[0;34m(\u001b[0m\u001b[0my\u001b[0m\u001b[0;34m,\u001b[0m\u001b[0mint\u001b[0m\u001b[0;34m)\u001b[0m\u001b[0;34m==\u001b[0m\u001b[0;32mTrue\u001b[0m \u001b[0;34m,\u001b[0m \u001b[0;34m\"Argumnets of type int are required\"\u001b[0m\u001b[0;34m\u001b[0m\u001b[0;34m\u001b[0m\u001b[0m\n\u001b[0m\u001b[1;32m      3\u001b[0m     \u001b[0;32mreturn\u001b[0m \u001b[0mx\u001b[0m\u001b[0;34m+\u001b[0m\u001b[0my\u001b[0m\u001b[0;34m\u001b[0m\u001b[0;34m\u001b[0m\u001b[0m\n\u001b[1;32m      4\u001b[0m \u001b[0;34m\u001b[0m\u001b[0m\n\u001b[1;32m      5\u001b[0m \u001b[0msum\u001b[0m\u001b[0;34m(\u001b[0m\u001b[0;36m5\u001b[0m\u001b[0;34m,\u001b[0m\u001b[0;34m\"orange\"\u001b[0m\u001b[0;34m)\u001b[0m\u001b[0;34m\u001b[0m\u001b[0;34m\u001b[0m\u001b[0m\n",
      "\u001b[0;31mAssertionError\u001b[0m: Argumnets of type int are required"
     ]
    }
   ],
   "source": [
    "def sum(x, y):\n",
    "    assert isinstance (x,int)==True and isinstance (y,int)==True , \"Argumnets of type int are required\"\n",
    "    return x+y\n",
    "\n",
    "sum(5,\"orange\")"
   ]
  },
  {
   "cell_type": "markdown",
   "metadata": {},
   "source": [
    "# Problem 8"
   ]
  },
  {
   "cell_type": "code",
   "execution_count": 202,
   "metadata": {},
   "outputs": [
    {
     "name": "stdout",
     "output_type": "stream",
     "text": [
      "error\n"
     ]
    }
   ],
   "source": [
    "def div(x,y):\n",
    "    \n",
    "\n",
    "    try:\n",
    "        return (x/y)\n",
    "    except Exception:\n",
    "        print(\"error\")\n",
    "\n",
    "        \n",
    "div(6,0)      \n",
    "    "
   ]
  },
  {
   "cell_type": "markdown",
   "metadata": {},
   "source": [
    "# Problem 9"
   ]
  },
  {
   "cell_type": "code",
   "execution_count": 207,
   "metadata": {},
   "outputs": [
    {
     "name": "stdout",
     "output_type": "stream",
     "text": [
      "error : division by zero\n"
     ]
    }
   ],
   "source": [
    "def div(x,y):\n",
    "    \n",
    "\n",
    "    try:\n",
    "        return (x/y)\n",
    "    except ZeroDivisionError as error:\n",
    "        print(\"error :\", error)\n",
    "    except Exception:\n",
    "        print (\"other error\")\n",
    "\n",
    "        \n",
    "div(6,0)      \n",
    "    "
   ]
  },
  {
   "cell_type": "markdown",
   "metadata": {},
   "source": [
    "# Problem 10"
   ]
  },
  {
   "cell_type": "code",
   "execution_count": 213,
   "metadata": {},
   "outputs": [
    {
     "name": "stdout",
     "output_type": "stream",
     "text": [
      "Oops! unsupported operand type(s) for /: 'int' and 'str'\n",
      "Oops! division by zero\n",
      "The current entry of the list is: 0.5\n"
     ]
    }
   ],
   "source": [
    "list1= [\"a\",0,2]\n",
    "\n",
    "for x in list1:\n",
    "    try:\n",
    "        print(\"The current entry of the list is:\" ,1/x)\n",
    "    except Exception as error:\n",
    "        print(\"Oops!\",error)\n",
    "            "
   ]
  },
  {
   "cell_type": "markdown",
   "metadata": {},
   "source": [
    "# Problem 11"
   ]
  },
  {
   "cell_type": "code",
   "execution_count": 3,
   "metadata": {},
   "outputs": [
    {
     "name": "stdout",
     "output_type": "stream",
     "text": [
      "Username: Rambo\n",
      "Error! Rambo is an invalid username\n"
     ]
    }
   ],
   "source": [
    "try:\n",
    "    username= input(\"Username: \")\n",
    "    if username == 'Rambo':\n",
    "        raise Exception(\"Rambo is an invalid username\")\n",
    "    else:\n",
    "        print (\"welcome\",username)\n",
    "        \n",
    "except Exception as e:\n",
    "    print(\"Error!\",e)\n"
   ]
  },
  {
   "cell_type": "code",
   "execution_count": null,
   "metadata": {},
   "outputs": [],
   "source": []
  }
 ],
 "metadata": {
  "kernelspec": {
   "display_name": "Python 3",
   "language": "python",
   "name": "python3"
  },
  "language_info": {
   "codemirror_mode": {
    "name": "ipython",
    "version": 3
   },
   "file_extension": ".py",
   "mimetype": "text/x-python",
   "name": "python",
   "nbconvert_exporter": "python",
   "pygments_lexer": "ipython3",
   "version": "3.7.4"
  }
 },
 "nbformat": 4,
 "nbformat_minor": 2
}
